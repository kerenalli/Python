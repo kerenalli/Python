{
  "nbformat": 4,
  "nbformat_minor": 0,
  "metadata": {
    "colab": {
      "provenance": [],
      "mount_file_id": "1JS253D5XLVxHY9D3jgSQb-oH1lOTB85s",
      "authorship_tag": "ABX9TyO2stzww/QjmjjV8qR2TFmh",
      "include_colab_link": true
    },
    "kernelspec": {
      "name": "python3",
      "display_name": "Python 3"
    },
    "language_info": {
      "name": "python"
    }
  },
  "cells": [
    {
      "cell_type": "markdown",
      "metadata": {
        "id": "view-in-github",
        "colab_type": "text"
      },
      "source": [
        "<a href=\"https://colab.research.google.com/github/kerenalli/Python/blob/main/Module_5_Web_scrapping.ipynb\" target=\"_parent\"><img src=\"https://colab.research.google.com/assets/colab-badge.svg\" alt=\"Open In Colab\"/></a>"
      ]
    },
    {
      "cell_type": "markdown",
      "source": [
        "# **Web_scrapping**"
      ],
      "metadata": {
        "id": "5GB_zIYEb8H6"
      }
    },
    {
      "cell_type": "code",
      "execution_count": null,
      "metadata": {
        "colab": {
          "base_uri": "https://localhost:8080/"
        },
        "id": "S0hUlLHRb53a",
        "outputId": "1d02a127-1f12-4d04-f0b7-3052b8820163"
      },
      "outputs": [
        {
          "output_type": "stream",
          "name": "stdout",
          "text": [
            "Requirement already satisfied: requests in /usr/local/lib/python3.10/dist-packages (2.31.0)\n",
            "Requirement already satisfied: charset-normalizer<4,>=2 in /usr/local/lib/python3.10/dist-packages (from requests) (3.3.2)\n",
            "Requirement already satisfied: idna<4,>=2.5 in /usr/local/lib/python3.10/dist-packages (from requests) (3.6)\n",
            "Requirement already satisfied: urllib3<3,>=1.21.1 in /usr/local/lib/python3.10/dist-packages (from requests) (2.0.7)\n",
            "Requirement already satisfied: certifi>=2017.4.17 in /usr/local/lib/python3.10/dist-packages (from requests) (2024.2.2)\n"
          ]
        }
      ],
      "source": [
        "!pip install requests"
      ]
    },
    {
      "cell_type": "code",
      "source": [
        "!pip install bs4"
      ],
      "metadata": {
        "colab": {
          "base_uri": "https://localhost:8080/"
        },
        "id": "ot3p8tsqkYUF",
        "outputId": "02ba8b55-a25a-4c37-eced-0aeb46485c40"
      },
      "execution_count": null,
      "outputs": [
        {
          "output_type": "stream",
          "name": "stdout",
          "text": [
            "Collecting bs4\n",
            "  Downloading bs4-0.0.2-py2.py3-none-any.whl (1.2 kB)\n",
            "Requirement already satisfied: beautifulsoup4 in /usr/local/lib/python3.10/dist-packages (from bs4) (4.12.3)\n",
            "Requirement already satisfied: soupsieve>1.2 in /usr/local/lib/python3.10/dist-packages (from beautifulsoup4->bs4) (2.5)\n",
            "Installing collected packages: bs4\n",
            "Successfully installed bs4-0.0.2\n"
          ]
        }
      ]
    },
    {
      "cell_type": "markdown",
      "source": [
        "**1. Write a Python program to test if a given page is found or not on the server**\n"
      ],
      "metadata": {
        "id": "5y--BhcSkAM5"
      }
    },
    {
      "cell_type": "code",
      "source": [
        "import requests\n",
        "\n",
        "def check_page(url):\n",
        "    try:\n",
        "        response = requests.get(url)\n",
        "        if response.status_code == 200:\n",
        "            print(\"Page found!\")\n",
        "        else:\n",
        "            print(f\"Page not found! Status code: {response.status_code}\")\n",
        "    except requests.ConnectionError:\n",
        "        print(\"Failed to connect to the server. Check the URL or your internet connection.\")\n",
        "\n",
        "# Example usage:\n",
        "url = 'http://www.amazon.in/s?bbn=1389432031&rh=n%3A976419031%2Cn%3A1389401031%2Cn%3A1389432031%2Cn%3A1805560031&dc&qid=1712173917&rnid=1389432031&ref=lp_1389432031_nr_n_1'\n",
        "check_page(url)\n"
      ],
      "metadata": {
        "colab": {
          "base_uri": "https://localhost:8080/"
        },
        "id": "dNgvJqKEkegR",
        "outputId": "6c3df8fa-8728-45aa-fa2f-c985372ff6d4"
      },
      "execution_count": null,
      "outputs": [
        {
          "output_type": "stream",
          "name": "stdout",
          "text": [
            "Page found!\n"
          ]
        }
      ]
    },
    {
      "cell_type": "markdown",
      "source": [
        "**2.Write a Python program to download and display the content of robot.txt for en.wikipedia.org.**"
      ],
      "metadata": {
        "id": "uQyea9wjkSBx"
      }
    },
    {
      "cell_type": "code",
      "source": [
        "import requests\n",
        "\n",
        "def display_robots_txt(url):\n",
        "    try:\n",
        "        # Construct the URL for the robots.txt file\n",
        "        robots_url = f\"{url}/robots.txt\"\n",
        "\n",
        "        # Send a GET request to fetch the robots.txt file\n",
        "        response = requests.get(robots_url)\n",
        "\n",
        "        # Check if the request was successful (status code 200)\n",
        "        if response.status_code == 200:\n",
        "            print(\"Robots.txt content:\\n\")\n",
        "            print(response.text)\n",
        "        else:\n",
        "            print(f\"Failed to retrieve robots.txt. Status code: {response.status_code}\")\n",
        "    except requests.ConnectionError:\n",
        "        print(\"Failed to connect to the server. Check the URL or your internet connection.\")\n",
        "\n",
        "# URL for en.wikipedia.org\n",
        "url = \"http://www.amazon.in\"\n",
        "\n",
        "# Call the function to display the content of robots.txt\n",
        "display_robots_txt(url)\n"
      ],
      "metadata": {
        "colab": {
          "base_uri": "https://localhost:8080/"
        },
        "id": "dYXKUh4thl39",
        "outputId": "68a5e583-67b9-4201-93a6-11e6a812c0fb"
      },
      "execution_count": null,
      "outputs": [
        {
          "output_type": "stream",
          "name": "stdout",
          "text": [
            "Robots.txt content:\n",
            "\n",
            "User-agent: *\n",
            "Disallow: */s?k=*&rh=n*p_*p_*p_\n",
            "Disallow: /dp/product-availability/\n",
            "Disallow: /dp/rate-this-item/\n",
            "Disallow: /exec/obidos/account-access-login\n",
            "Disallow: /exec/obidos/change-style\n",
            "Disallow: /exec/obidos/dt/assoc/handle-buy-box\n",
            "Disallow: /exec/obidos/flex-sign-in\n",
            "Disallow: /exec/obidos/handle-buy-box\n",
            "Disallow: /exec/obidos/refer-a-friend-login\n",
            "Disallow: /exec/obidos/subst/associates/join\n",
            "Disallow: /exec/obidos/subst/marketplace/sell-your-collection.html\n",
            "Disallow: /exec/obidos/subst/marketplace/sell-your-stuff.html\n",
            "Disallow: /exec/obidos/subst/partners/friends/access.html\n",
            "Disallow: /exec/obidos/tg/cm/member/\n",
            "Disallow: /gp/cart\n",
            "Disallow: /gp/content-form\n",
            "Disallow: /gp/customer-images\n",
            "Disallow: /gp/customer-media/upload\n",
            "Disallow: /gp/customer-reviews/common/du\n",
            "Disallow: /gp/customer-reviews/write-a-review.html\n",
            "Disallow: /gp/flex\n",
            "Disallow: /gp/gfix\n",
            "Disallow: /gp/history\n",
            "Disallow: /gp/item-dispatch\n",
            "Disallow: /gp/legacy-handle-buy-box.html\n",
            "Disallow: /gp/reader\n",
            "Disallow: /gp/registry/wishlist/*/reserve\n",
            "Disallow: /gp/richpub/listmania/createpipeline\n",
            "Disallow: /gp/music/clipserve\n",
            "Disallow: /gp/recsradio\n",
            "Disallow: /gp/sign-in\n",
            "Disallow: /gp/slides/make-money\n",
            "Disallow: /gp/structured-ratings/actions/get-experience.html\n",
            "Disallow: /gp/twitter/\n",
            "Disallow: /gp/vote\n",
            "Disallow: /gp/voting/\n",
            "Disallow: /gp/yourstore\n",
            "Disallow: /ap/signin\n",
            "Disallow: /gp/registry/wishlist/\n",
            "Disallow: /wishlist/\n",
            "Allow: /wishlist/universal*\n",
            "Allow: /wishlist/vendor-button*\n",
            "Allow: /wishlist/get-button*\n",
            "Disallow: /gp/wishlist/\n",
            "Allow: /gp/wishlist/universal*\n",
            "Allow: /gp/wishlist/vendor-button*\n",
            "Allow: /gp/wishlist/ipad-install*\n",
            "Disallow: /registry/wishlist/\n",
            "Disallow: /gp/orc/rml/\n",
            "Disallow: /gp/entity-alert/external\n",
            "Disallow: /gp/customer-reviews/dynamic/sims-box\n",
            "Disallow: /review/dynamic/sims-box\n",
            "Disallow: /gp/redirect.html\n",
            "Disallow: /s?*rh=n%3A1380045031\n",
            "Disallow: /gp/customer-media/actions/delete/\n",
            "Disallow: /gp/customer-media/actions/edit-caption/\n",
            "Disallow: /gp/dmusic/\n",
            "Disallow: /gp/aag\n",
            "Disallow: /gp/socialmedia/giveaways\n",
            "Disallow: /gp/aw/so.html\n",
            "Disallow: /gp/pdp/profile/\n",
            "Disallow: /gp/aw/help/id=201013640\n",
            "Disallow: /j/\n",
            "Disallow: */j/\n",
            "Disallow: /junglee/\n",
            "Disallow: /used/\n",
            "Disallow: /gp/mobile/dp/\n",
            "Disallow: /gp/aw/b/\n",
            "Disallow: /gp/help/reports/infringement/jquery/handle-notice-submit.html\n",
            "Disallow: /gp/help/customer/handler/handle-email-submit.html\n",
            "Disallow: /reviews/iframe\n",
            "Disallow: /gp/splinter/\n",
            "Disallow: /magazine/\n",
            "Disallow: /gp/ask-widget/askWidget*\n",
            "Disallow: /ss/customer-reviews/lighthouse/\n",
            "Disallow: /hz/leaderboard/top-reviewers/\n",
            "Disallow: /hz/leaderboard/hall-of-fame/\n",
            "Disallow: /review/top-reviewers/\n",
            "Disallow: /review/top-reviewers\n",
            "Disallow: /review/hall-of-fame\n",
            "Disallow: /reviews/top-reviewers/\n",
            "Disallow: /reviews/top-reviewers\n",
            "Disallow: /reviews/hall-of-fame\n",
            "Disallow: /neo/magazine/\n",
            "Disallow: /hz/help/contact/*/message/$\n",
            "Disallow: /-/\n",
            "Disallow: /gp/aw/shoppingAids/\n",
            "Allow: /-/hi/\n",
            "Allow: /-/hi$\n",
            "Disallow: /hz/contact-us/ajax/initiate-trusted-contact/\n",
            "\n",
            "User-agent: EtaoSpider\n",
            "Disallow: /\n",
            "\n",
            "User-agent: Twitterbot\n",
            "Disallow: /dp/product-availability/\n",
            "Disallow: /dp/rate-this-item/\n",
            "Disallow: /exec/obidos/account-access-login\n",
            "Disallow: /exec/obidos/change-style\n",
            "Disallow: /exec/obidos/dt/assoc/handle-buy-box\n",
            "Disallow: /exec/obidos/flex-sign-in\n",
            "Disallow: /exec/obidos/handle-buy-box\n",
            "Disallow: /exec/obidos/refer-a-friend-login\n",
            "Disallow: /exec/obidos/subst/associates/join\n",
            "Disallow: /exec/obidos/subst/marketplace/sell-your-collection.html\n",
            "Disallow: /exec/obidos/subst/marketplace/sell-your-stuff.html\n",
            "Disallow: /exec/obidos/subst/partners/friends/access.html\n",
            "Disallow: /exec/obidos/tg/cm/member/\n",
            "Disallow: /gp/cart\n",
            "Disallow: /gp/content-form\n",
            "Disallow: /gp/customer-images\n",
            "Disallow: /gp/customer-media/upload\n",
            "Disallow: /gp/customer-reviews/common/du\n",
            "Disallow: /gp/customer-reviews/write-a-review.html\n",
            "Disallow: /gp/flex\n",
            "Disallow: /gp/gfix\n",
            "Disallow: /gp/history\n",
            "Disallow: /gp/item-dispatch\n",
            "Disallow: /gp/legacy-handle-buy-box.html\n",
            "Disallow: /gp/reader\n",
            "Disallow: /gp/registry/wishlist/*/reserve\n",
            "Disallow: /gp/richpub/listmania/createpipeline\n",
            "Disallow: /gp/music/clipserve\n",
            "Disallow: /gp/recsradio\n",
            "Disallow: /gp/sign-in\n",
            "Disallow: /gp/slides/make-money\n",
            "Disallow: /gp/structured-ratings/actions/get-experience.html\n",
            "Disallow: /gp/twitter/\n",
            "Disallow: /gp/vote\n",
            "Disallow: /gp/voting/\n",
            "Disallow: /gp/yourstore\n",
            "Disallow: /ap/signin\n",
            "Disallow: /gp/registry/wishlist/\n",
            "Disallow: /wishlist/\n",
            "Allow: /wishlist/universal*\n",
            "Allow: /wishlist/vendor-button*\n",
            "Allow: /wishlist/get-button*\n",
            "Disallow: /gp/wishlist/\n",
            "Allow: /gp/wishlist/universal*\n",
            "Allow: /gp/wishlist/vendor-button*\n",
            "Allow: /gp/wishlist/ipad-install*\n",
            "Disallow: /registry/wishlist/\n",
            "Disallow: /gp/orc/rml/\n",
            "Disallow: /gp/entity-alert/external\n",
            "Disallow: /gp/customer-reviews/dynamic/sims-box\n",
            "Disallow: /review/dynamic/sims-box\n",
            "Disallow: /gp/redirect.html\n",
            "Disallow: /s?*rh=n%3A1380045031\n",
            "Disallow: /gp/customer-media/actions/delete/\n",
            "Disallow: /gp/customer-media/actions/edit-caption/\n",
            "Disallow: /gp/dmusic/\n",
            "Disallow: /gp/aag\n",
            "Disallow: /gp/socialmedia/giveaways\n",
            "Disallow: /gp/aw/so.html\n",
            "Disallow: /gp/pdp/profile/\n",
            "Disallow: /gp/aw/help/id=201013640\n",
            "Disallow: /j/\n",
            "Disallow: */j/\n",
            "Disallow: /junglee/\n",
            "Disallow: /used/\n",
            "Disallow: /gp/mobile/dp/\n",
            "Disallow: /gp/aw/b/\n",
            "Disallow: /gp/help/reports/infringement/jquery/handle-notice-submit.html\n",
            "Disallow: /gp/help/customer/handler/handle-email-submit.html\n",
            "Disallow: /reviews/iframe\n",
            "Allow: /minitv\n",
            "Allow: /minitv/ct/comedy\n",
            "Allow: /minitv/ct/mini-movies\n",
            "Allow: /minitv/ct/web-series\n",
            "Allow: /minitv/tp/*\n",
            "Disallow: /minitv/st/*\n",
            "\n",
            "\n",
            "\n",
            "User-agent: AmazonAdBot\n",
            "Disallow: \n",
            "\n",
            "User-agent: GPTBot\n",
            "Disallow: /\n",
            "\n",
            "User-agent: CCBot\n",
            "Disallow: /\n",
            "\n"
          ]
        }
      ]
    },
    {
      "cell_type": "markdown",
      "source": [
        "**3.Write a Python program to get the number of datasets currently listed on data.gov**"
      ],
      "metadata": {
        "id": "_toGHt3OkdgG"
      }
    },
    {
      "cell_type": "code",
      "source": [
        "import requests\n",
        "from bs4 import BeautifulSoup\n",
        "\n",
        "def get_number_of_datasets():\n",
        "    try:\n",
        "        # URL of data.gov\n",
        "        url = 'https://www.data.gov/'\n",
        "\n",
        "        # Send a GET request to fetch the HTML content of the website\n",
        "        response = requests.get(url)\n",
        "        print(response)\n",
        "\n",
        "        # Check if the request was successful (status code 200)\n",
        "        if response.status_code == 200:\n",
        "            # Parse the HTML content using BeautifulSoup\n",
        "            soup = BeautifulSoup(response.text, 'html.parser')\n",
        "\n",
        "            # Find the element containing the number of datasets\n",
        "            datasets_element = soup.find('div', class_='hero__dataset-count')\n",
        "\n",
        "            # Extract the text containing the number of datasets\n",
        "            datasets_text = datasets_element.text.strip().split()[0]\n",
        "\n",
        "            # Print the number of datasets\n",
        "            print(\"Number of datasets currently listed on data.gov:\", datasets_text)\n",
        "        else:\n",
        "            print(f\"Failed to retrieve data.gov. Status code: {response.status_code}\")\n",
        "    except requests.ConnectionError:\n",
        "        print(\"Failed to connect to the server. Check your internet connection.\")\n",
        "\n",
        "# Call the function to get the number of datasets\n",
        "get_number_of_datasets()\n"
      ],
      "metadata": {
        "colab": {
          "base_uri": "https://localhost:8080/"
        },
        "id": "1vLsYFvmh3o1",
        "outputId": "2bcbceb1-e07e-494f-b19f-bb47d779ad6c"
      },
      "execution_count": null,
      "outputs": [
        {
          "output_type": "stream",
          "name": "stdout",
          "text": [
            "<Response [200]>\n",
            "Number of datasets currently listed on data.gov: 293,063\n"
          ]
        }
      ]
    },
    {
      "cell_type": "markdown",
      "source": [
        "**4. Write a Python program to extract and display all the header tags from\n",
        "en.wikipedia.org/wiki/Main_Page**"
      ],
      "metadata": {
        "id": "gUdkAaBtkilv"
      }
    },
    {
      "cell_type": "code",
      "source": [
        "import requests\n",
        "from bs4 import BeautifulSoup\n",
        "\n",
        "def extract_header_tags(url):\n",
        "    try:\n",
        "        # Send a GET request to fetch the HTML content of the webpage\n",
        "        response = requests.get(url)\n",
        "\n",
        "        # Check if the request was successful (status code 200)\n",
        "        if response.status_code == 200:\n",
        "            # Parse the HTML content using BeautifulSoup\n",
        "            soup = BeautifulSoup(response.text, 'html.parser')\n",
        "\n",
        "            # Find all header tags (h1 to h6)\n",
        "            header_tags = soup.find_all(re.compile('^h[1-6]$'))\n",
        "\n",
        "            # Display the content of each header tag\n",
        "            for tag in header_tags:\n",
        "                print(tag.name + \": \" + tag.text.strip())\n",
        "        else:\n",
        "            print(f\"Failed to retrieve {url}. Status code: {response.status_code}\")\n",
        "    except requests.ConnectionError:\n",
        "        print(\"Failed to connect to the server. Check your internet connection.\")\n",
        "\n",
        "# URL for en.wikipedia.org Main Page\n",
        "url = \"https://en.wikipedia.org/wiki/Main_Page\"\n",
        "\n",
        "# Call the function to extract and display header tags\n",
        "extract_header_tags(url)\n"
      ],
      "metadata": {
        "colab": {
          "base_uri": "https://localhost:8080/"
        },
        "id": "piCcCKi8j0Cf",
        "outputId": "3378b29e-4bdf-417c-ef82-589ae3f560eb"
      },
      "execution_count": null,
      "outputs": [
        {
          "output_type": "stream",
          "name": "stdout",
          "text": [
            "h1: Main Page\n",
            "h1: Welcome to Wikipedia\n",
            "h2: From today's featured article\n",
            "h2: Did you know ...\n",
            "h2: In the news\n",
            "h2: On this day\n",
            "h2: Today's featured picture\n",
            "h2: Other areas of Wikipedia\n",
            "h2: Wikipedia's sister projects\n",
            "h2: Wikipedia languages\n"
          ]
        }
      ]
    }
  ]
}