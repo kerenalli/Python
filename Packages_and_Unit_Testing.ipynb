{
  "nbformat": 4,
  "nbformat_minor": 0,
  "metadata": {
    "colab": {
      "provenance": [],
      "mount_file_id": "1470-gYhoaGHgG0kbOn3aO-fMvHmKTjkG",
      "authorship_tag": "ABX9TyPpyVyO8CYeOGx7GQ4/t8ud",
      "include_colab_link": true
    },
    "kernelspec": {
      "name": "python3",
      "display_name": "Python 3"
    },
    "language_info": {
      "name": "python"
    }
  },
  "cells": [
    {
      "cell_type": "markdown",
      "metadata": {
        "id": "view-in-github",
        "colab_type": "text"
      },
      "source": [
        "<a href=\"https://colab.research.google.com/github/kerenalli/Python/blob/main/Packages_and_Unit_Testing.ipynb\" target=\"_parent\"><img src=\"https://colab.research.google.com/assets/colab-badge.svg\" alt=\"Open In Colab\"/></a>"
      ]
    },
    {
      "cell_type": "markdown",
      "source": [
        "## Custom Packages"
      ],
      "metadata": {
        "id": "xWhyGQwKakOc"
      }
    },
    {
      "cell_type": "markdown",
      "source": [
        "**\"Trust but verify!!!\"**"
      ],
      "metadata": {
        "id": "Vhyk0VGH4QBd"
      }
    },
    {
      "cell_type": "code",
      "execution_count": null,
      "metadata": {
        "id": "UcdlE4k_aVV0"
      },
      "outputs": [],
      "source": [
        "!mkdir Pack"
      ]
    },
    {
      "cell_type": "code",
      "source": [
        "!touch Pack/__init__.py"
      ],
      "metadata": {
        "id": "WgK85Q0Jpigy"
      },
      "execution_count": null,
      "outputs": []
    },
    {
      "cell_type": "code",
      "source": [
        "!touch Pack/circlerea.py"
      ],
      "metadata": {
        "id": "aRPygu2PpssU"
      },
      "execution_count": null,
      "outputs": []
    },
    {
      "cell_type": "code",
      "source": [
        "!cd Pack"
      ],
      "metadata": {
        "id": "OkocrWeFpyg9"
      },
      "execution_count": null,
      "outputs": []
    },
    {
      "cell_type": "code",
      "source": [
        "txt = '''\n",
        "import math\n",
        "def area(r):\n",
        "  return math.pi*r*r\n",
        "'''\n"
      ],
      "metadata": {
        "id": "lRLEYfbM4_Ah"
      },
      "execution_count": null,
      "outputs": []
    },
    {
      "cell_type": "code",
      "source": [
        "import math\n",
        "def area(r):\n",
        "  return math.pi*r*r\n",
        "\n",
        "radii = [5,0, True, 3+5j,'radius']\n",
        "\n",
        "for r in radii:\n",
        "  a = area(r)\n",
        "  print(f\"The area of the circle with radius {r} is {a}\")"
      ],
      "metadata": {
        "colab": {
          "base_uri": "https://localhost:8080/",
          "height": 400
        },
        "id": "gHLG7zmG5R2O",
        "outputId": "080e28f4-5076-4b65-d6dd-b2849447712b"
      },
      "execution_count": null,
      "outputs": [
        {
          "output_type": "stream",
          "name": "stdout",
          "text": [
            "The area of the circle with radius 5 is 78.53981633974483\n",
            "The area of the circle with radius 0 is 0.0\n",
            "The area of the circle with radius True is 3.141592653589793\n",
            "The area of the circle with radius (3+5j) is (-50.26548245743669+94.24777960769379j)\n"
          ]
        },
        {
          "output_type": "error",
          "ename": "TypeError",
          "evalue": "can't multiply sequence by non-int of type 'float'",
          "traceback": [
            "\u001b[0;31m---------------------------------------------------------------------------\u001b[0m",
            "\u001b[0;31mTypeError\u001b[0m                                 Traceback (most recent call last)",
            "\u001b[0;32m<ipython-input-8-aba66a392ff5>\u001b[0m in \u001b[0;36m<cell line: 7>\u001b[0;34m()\u001b[0m\n\u001b[1;32m      6\u001b[0m \u001b[0;34m\u001b[0m\u001b[0m\n\u001b[1;32m      7\u001b[0m \u001b[0;32mfor\u001b[0m \u001b[0mr\u001b[0m \u001b[0;32min\u001b[0m \u001b[0mradii\u001b[0m\u001b[0;34m:\u001b[0m\u001b[0;34m\u001b[0m\u001b[0;34m\u001b[0m\u001b[0m\n\u001b[0;32m----> 8\u001b[0;31m   \u001b[0ma\u001b[0m \u001b[0;34m=\u001b[0m \u001b[0marea\u001b[0m\u001b[0;34m(\u001b[0m\u001b[0mr\u001b[0m\u001b[0;34m)\u001b[0m\u001b[0;34m\u001b[0m\u001b[0;34m\u001b[0m\u001b[0m\n\u001b[0m\u001b[1;32m      9\u001b[0m   \u001b[0mprint\u001b[0m\u001b[0;34m(\u001b[0m\u001b[0;34mf\"The area of the circle with radius {r} is {a}\"\u001b[0m\u001b[0;34m)\u001b[0m\u001b[0;34m\u001b[0m\u001b[0;34m\u001b[0m\u001b[0m\n",
            "\u001b[0;32m<ipython-input-8-aba66a392ff5>\u001b[0m in \u001b[0;36marea\u001b[0;34m(r)\u001b[0m\n\u001b[1;32m      1\u001b[0m \u001b[0;32mimport\u001b[0m \u001b[0mmath\u001b[0m\u001b[0;34m\u001b[0m\u001b[0;34m\u001b[0m\u001b[0m\n\u001b[1;32m      2\u001b[0m \u001b[0;32mdef\u001b[0m \u001b[0marea\u001b[0m\u001b[0;34m(\u001b[0m\u001b[0mr\u001b[0m\u001b[0;34m)\u001b[0m\u001b[0;34m:\u001b[0m\u001b[0;34m\u001b[0m\u001b[0;34m\u001b[0m\u001b[0m\n\u001b[0;32m----> 3\u001b[0;31m   \u001b[0;32mreturn\u001b[0m \u001b[0mmath\u001b[0m\u001b[0;34m.\u001b[0m\u001b[0mpi\u001b[0m\u001b[0;34m*\u001b[0m\u001b[0mr\u001b[0m\u001b[0;34m*\u001b[0m\u001b[0mr\u001b[0m\u001b[0;34m\u001b[0m\u001b[0;34m\u001b[0m\u001b[0m\n\u001b[0m\u001b[1;32m      4\u001b[0m \u001b[0;34m\u001b[0m\u001b[0m\n\u001b[1;32m      5\u001b[0m \u001b[0mradii\u001b[0m \u001b[0;34m=\u001b[0m \u001b[0;34m[\u001b[0m\u001b[0;36m5\u001b[0m\u001b[0;34m,\u001b[0m\u001b[0;36m0\u001b[0m\u001b[0;34m,\u001b[0m \u001b[0;32mTrue\u001b[0m\u001b[0;34m,\u001b[0m \u001b[0;36m3\u001b[0m\u001b[0;34m+\u001b[0m\u001b[0;36m5j\u001b[0m\u001b[0;34m,\u001b[0m\u001b[0;34m'radius'\u001b[0m\u001b[0;34m]\u001b[0m\u001b[0;34m\u001b[0m\u001b[0;34m\u001b[0m\u001b[0m\n",
            "\u001b[0;31mTypeError\u001b[0m: can't multiply sequence by non-int of type 'float'"
          ]
        }
      ]
    },
    {
      "cell_type": "code",
      "source": [
        "txt = \"\"\"\n",
        "import math\n",
        "def area(r):\n",
        "  return math.pi*r*r\n",
        "\"\"\""
      ],
      "metadata": {
        "id": "5XQSIijtqFUe"
      },
      "execution_count": null,
      "outputs": []
    },
    {
      "cell_type": "code",
      "source": [
        "with open(\"/content/Pack/circlerea.py\",\"w\") as f:\n",
        "  f.write(txt)\n",
        "  f.close()"
      ],
      "metadata": {
        "id": "DyiCD0pQp3hw"
      },
      "execution_count": null,
      "outputs": []
    },
    {
      "cell_type": "code",
      "source": [
        "from Pack import circlerea as ca\n",
        "radii = [5,0, True]\n",
        "\n",
        "for r in radii:\n",
        "  a = ca.area(r)\n",
        "  print(f\"The area of the circle with radius {r} is {a}\")"
      ],
      "metadata": {
        "colab": {
          "base_uri": "https://localhost:8080/"
        },
        "id": "klf1bfisqgsU",
        "outputId": "e0fdf0e5-4b56-4f7c-dfc5-6cab35193277"
      },
      "execution_count": null,
      "outputs": [
        {
          "output_type": "stream",
          "name": "stdout",
          "text": [
            "The area of the circle with radius 5 is 78.53981633974483\n",
            "The area of the circle with radius 0 is 0.0\n",
            "The area of the circle with radius True is 3.141592653589793\n"
          ]
        }
      ]
    },
    {
      "cell_type": "code",
      "source": [
        "!python -m unittest"
      ],
      "metadata": {
        "colab": {
          "base_uri": "https://localhost:8080/"
        },
        "id": "eS1LZkqmDEmE",
        "outputId": "8b4b6973-da65-447a-9d4b-a8c93308684b"
      },
      "execution_count": null,
      "outputs": [
        {
          "output_type": "stream",
          "name": "stdout",
          "text": [
            "E\n",
            "======================================================================\n",
            "ERROR: Pack.test_circlearea (unittest.loader._FailedTest)\n",
            "----------------------------------------------------------------------\n",
            "ImportError: Failed to import test module: Pack.test_circlearea\n",
            "Traceback (most recent call last):\n",
            "  File \"/usr/lib/python3.10/unittest/loader.py\", line 436, in _find_test_path\n",
            "    module = self._get_module_from_name(name)\n",
            "  File \"/usr/lib/python3.10/unittest/loader.py\", line 377, in _get_module_from_name\n",
            "    __import__(name)\n",
            "  File \"/content/Pack/test_circlearea.py\", line 2, in <module>\n",
            "    from Pack import circlearea as ca\n",
            "ImportError: cannot import name 'circlearea' from 'Pack' (/content/Pack/__init__.py)\n",
            "\n",
            "\n",
            "----------------------------------------------------------------------\n",
            "Ran 1 test in 0.000s\n",
            "\n",
            "FAILED (errors=1)\n"
          ]
        }
      ]
    },
    {
      "cell_type": "code",
      "source": [
        "!pip install espncricket"
      ],
      "metadata": {
        "colab": {
          "base_uri": "https://localhost:8080/"
        },
        "id": "PAlr8bxXv8dQ",
        "outputId": "c398c1b9-d7ab-4aa1-c662-d479b70ead6c"
      },
      "execution_count": null,
      "outputs": [
        {
          "output_type": "stream",
          "name": "stdout",
          "text": [
            "Collecting espncricket\n",
            "  Downloading espncricket-0.0.9-py3-none-any.whl (7.9 kB)\n",
            "Requirement already satisfied: pandas in /usr/local/lib/python3.10/dist-packages (from espncricket) (1.5.3)\n",
            "Requirement already satisfied: requests in /usr/local/lib/python3.10/dist-packages (from espncricket) (2.31.0)\n",
            "Collecting fake-useragent (from espncricket)\n",
            "  Downloading fake_useragent-1.5.1-py3-none-any.whl (17 kB)\n",
            "Requirement already satisfied: lxml in /usr/local/lib/python3.10/dist-packages (from espncricket) (4.9.4)\n",
            "Requirement already satisfied: python-dateutil>=2.8.1 in /usr/local/lib/python3.10/dist-packages (from pandas->espncricket) (2.8.2)\n",
            "Requirement already satisfied: pytz>=2020.1 in /usr/local/lib/python3.10/dist-packages (from pandas->espncricket) (2023.4)\n",
            "Requirement already satisfied: numpy>=1.21.0 in /usr/local/lib/python3.10/dist-packages (from pandas->espncricket) (1.25.2)\n",
            "Requirement already satisfied: charset-normalizer<4,>=2 in /usr/local/lib/python3.10/dist-packages (from requests->espncricket) (3.3.2)\n",
            "Requirement already satisfied: idna<4,>=2.5 in /usr/local/lib/python3.10/dist-packages (from requests->espncricket) (3.6)\n",
            "Requirement already satisfied: urllib3<3,>=1.21.1 in /usr/local/lib/python3.10/dist-packages (from requests->espncricket) (2.0.7)\n",
            "Requirement already satisfied: certifi>=2017.4.17 in /usr/local/lib/python3.10/dist-packages (from requests->espncricket) (2024.2.2)\n",
            "Requirement already satisfied: six>=1.5 in /usr/local/lib/python3.10/dist-packages (from python-dateutil>=2.8.1->pandas->espncricket) (1.16.0)\n",
            "Installing collected packages: fake-useragent, espncricket\n",
            "Successfully installed espncricket-0.0.9 fake-useragent-1.5.1\n"
          ]
        }
      ]
    },
    {
      "cell_type": "code",
      "source": [
        "import espncricket.ESPN as ESPN\n",
        "\n",
        "df = ESPN().get_score()\n",
        "print(df.head())"
      ],
      "metadata": {
        "colab": {
          "base_uri": "https://localhost:8080/"
        },
        "id": "ho4KjGY8v-0f",
        "outputId": "d36118b9-177a-4608-8a99-4a155000dc2a"
      },
      "execution_count": null,
      "outputs": [
        {
          "output_type": "stream",
          "name": "stdout",
          "text": [
            "               Player       Span  Mat Inns  NO   Runs    HS    Ave 100  50   0\n",
            "0  SR Tendulkar (IND)  1989-2013  200  329  33  15921  248*  53.78  51  68  14\n",
            "1    RT Ponting (AUS)  1995-2012  168  287  29  13378   257  51.85  41  62  17\n",
            "2  JH Kallis (ICC/SA)  1995-2013  166  280  40  13289   224  55.37  45  58  16\n",
            "3  R Dravid (ICC/IND)  1996-2012  164  286  32  13288   270  52.31  36  63   8\n",
            "4       AN Cook (ENG)  2006-2018  161  291  16  12472   294  45.35  33  57   9\n"
          ]
        }
      ]
    },
    {
      "cell_type": "code",
      "source": [
        "!ls\n",
        "!cd sample_data/"
      ],
      "metadata": {
        "colab": {
          "base_uri": "https://localhost:8080/"
        },
        "id": "ghgXTsEMWUHf",
        "outputId": "89d8315f-d5b5-4d39-8d5f-46de045c267f"
      },
      "execution_count": 2,
      "outputs": [
        {
          "output_type": "stream",
          "name": "stdout",
          "text": [
            "drive  sample_data\n"
          ]
        }
      ]
    },
    {
      "cell_type": "code",
      "source": [
        "%cd sample_data"
      ],
      "metadata": {
        "colab": {
          "base_uri": "https://localhost:8080/"
        },
        "id": "m4cXingqZYb5",
        "outputId": "b291101d-2422-4db3-8880-724b8977f551"
      },
      "execution_count": 4,
      "outputs": [
        {
          "output_type": "stream",
          "name": "stdout",
          "text": [
            "/content/sample_data\n"
          ]
        }
      ]
    },
    {
      "cell_type": "code",
      "source": [
        "!python circle.py"
      ],
      "metadata": {
        "id": "DsPmbv8bZer3"
      },
      "execution_count": 35,
      "outputs": []
    },
    {
      "cell_type": "code",
      "source": [
        "from sample_data import circle\n",
        "radii = [1,0,2.4,True,'Radius',3+5j]\n",
        "\n",
        "for r in radii:\n",
        "  print(f'The area of the circle with radius {r} is: {circle.circle(r)}')"
      ],
      "metadata": {
        "colab": {
          "base_uri": "https://localhost:8080/",
          "height": 382
        },
        "id": "EBSHs9r7a5q2",
        "outputId": "86a7e389-c525-4562-c134-af4defb2a129"
      },
      "execution_count": 32,
      "outputs": [
        {
          "output_type": "stream",
          "name": "stdout",
          "text": [
            "The area of the circle with radius 1 is: 3.141592653589793\n",
            "The area of the circle with radius 0 is: 0.0\n",
            "The area of the circle with radius 2.4 is: 18.09557368467721\n",
            "The area of the circle with radius True is: 3.141592653589793\n"
          ]
        },
        {
          "output_type": "error",
          "ename": "TypeError",
          "evalue": "can't multiply sequence by non-int of type 'float'",
          "traceback": [
            "\u001b[0;31m---------------------------------------------------------------------------\u001b[0m",
            "\u001b[0;31mTypeError\u001b[0m                                 Traceback (most recent call last)",
            "\u001b[0;32m<ipython-input-32-6e715d338351>\u001b[0m in \u001b[0;36m<cell line: 4>\u001b[0;34m()\u001b[0m\n\u001b[1;32m      3\u001b[0m \u001b[0;34m\u001b[0m\u001b[0m\n\u001b[1;32m      4\u001b[0m \u001b[0;32mfor\u001b[0m \u001b[0mr\u001b[0m \u001b[0;32min\u001b[0m \u001b[0mradii\u001b[0m\u001b[0;34m:\u001b[0m\u001b[0;34m\u001b[0m\u001b[0;34m\u001b[0m\u001b[0m\n\u001b[0;32m----> 5\u001b[0;31m   \u001b[0mprint\u001b[0m\u001b[0;34m(\u001b[0m\u001b[0;34mf'The area of the circle with radius {r} is: {circle.circle(r)}'\u001b[0m\u001b[0;34m)\u001b[0m\u001b[0;34m\u001b[0m\u001b[0;34m\u001b[0m\u001b[0m\n\u001b[0m",
            "\u001b[0;32m/content/sample_data/circle.py\u001b[0m in \u001b[0;36mcircle\u001b[0;34m(r)\u001b[0m\n\u001b[1;32m      1\u001b[0m \u001b[0;32mfrom\u001b[0m \u001b[0mmath\u001b[0m \u001b[0;32mimport\u001b[0m \u001b[0mpi\u001b[0m\u001b[0;34m\u001b[0m\u001b[0;34m\u001b[0m\u001b[0m\n\u001b[1;32m      2\u001b[0m \u001b[0;32mdef\u001b[0m \u001b[0mcircle\u001b[0m\u001b[0;34m(\u001b[0m\u001b[0mr\u001b[0m\u001b[0;34m)\u001b[0m\u001b[0;34m:\u001b[0m\u001b[0;34m\u001b[0m\u001b[0;34m\u001b[0m\u001b[0m\n\u001b[0;32m----> 3\u001b[0;31m   \u001b[0;32mif\u001b[0m \u001b[0mr\u001b[0m\u001b[0;34m<\u001b[0m\u001b[0;36m0\u001b[0m\u001b[0;34m:\u001b[0m\u001b[0;34m\u001b[0m\u001b[0;34m\u001b[0m\u001b[0m\n\u001b[0m\u001b[1;32m      4\u001b[0m     \u001b[0;32mraise\u001b[0m \u001b[0mValueError\u001b[0m\u001b[0;34m(\u001b[0m\u001b[0;34m\"The radius must be positive or zero\"\u001b[0m\u001b[0;34m)\u001b[0m\u001b[0;34m\u001b[0m\u001b[0;34m\u001b[0m\u001b[0m\n\u001b[1;32m      5\u001b[0m   \u001b[0;32mreturn\u001b[0m \u001b[0mpi\u001b[0m\u001b[0;34m*\u001b[0m\u001b[0mr\u001b[0m\u001b[0;34m*\u001b[0m\u001b[0mr\u001b[0m\u001b[0;34m\u001b[0m\u001b[0;34m\u001b[0m\u001b[0m\n",
            "\u001b[0;31mTypeError\u001b[0m: can't multiply sequence by non-int of type 'float'"
          ]
        }
      ]
    },
    {
      "cell_type": "code",
      "source": [
        "%run test_circle.py"
      ],
      "metadata": {
        "colab": {
          "base_uri": "https://localhost:8080/"
        },
        "id": "8__1XbIeZlCh",
        "outputId": "d3380a61-b790-4329-9159-943fd0729531"
      },
      "execution_count": 50,
      "outputs": [
        {
          "output_type": "stream",
          "name": "stderr",
          "text": [
            "...\n",
            "----------------------------------------------------------------------\n",
            "Ran 3 tests in 0.007s\n",
            "\n",
            "OK\n"
          ]
        }
      ]
    },
    {
      "cell_type": "code",
      "source": [
        "!python"
      ],
      "metadata": {
        "colab": {
          "base_uri": "https://localhost:8080/"
        },
        "id": "MCmg64yFbl39",
        "outputId": "0acf9237-91e9-44bc-f976-78c4b6a2b312"
      },
      "execution_count": 47,
      "outputs": [
        {
          "output_type": "stream",
          "name": "stdout",
          "text": [
            "Python 3.10.12 (main, Nov 20 2023, 15:14:05) [GCC 11.4.0] on linux\n",
            "Type \"help\", \"copyright\", \"credits\" or \"license\" for more information.\n",
            ">>> import unittest\n",
            ">>> help(unittest.TestCase.assertRaises)\n",
            "Help on function assertRaises in module unittest.case:\n",
            "\n",
            "a\bas\bss\bse\ber\brt\btR\bRa\bai\bis\bse\bes\bs(self, expected_exception, *args, **kwargs)\n",
            "    Fail unless an exception of class expected_exception is raised\n",
            "    by the callable when invoked with specified positional and\n",
            "    keyword arguments. If a different type of exception is\n",
            "    raised, it will not be caught, and the test case will be\n",
            "    deemed to have suffered an error, exactly as for an\n",
            "    unexpected exception.\n",
            "    \n",
            "    If called with the callable and arguments omitted, will return a\n",
            "    context object used like this::\n",
            "    \n",
            "         with self.assertRaises(SomeException):\n",
            "             do_something()\n",
            "    \n",
            "    An optional keyword argument 'msg' can be provided when assertRaises\n",
            "    is used as a context object.\n",
            "    \n",
            "    The context manager keeps a reference to the exception as\n",
            "    the 'exception' attribute. This allows you to inspect the\n",
            "    exception after the assertion::\n",
            "    \n",
            "        with self.assertRaises(SomeException) as cm:\n",
            "            do_something()\n",
            "        the_exception = cm.exception\n",
            "        self.assertEqual(the_exception.error_code, 3)\n",
            "\n",
            ">>> \n",
            ">>> \n",
            "\n",
            "KeyboardInterrupt\n",
            ">>> \n",
            "KeyboardInterrupt\n",
            ">>> ^C\n"
          ]
        }
      ]
    },
    {
      "cell_type": "code",
      "source": [],
      "metadata": {
        "id": "FZGCYAL8jgx3"
      },
      "execution_count": null,
      "outputs": []
    }
  ]
}