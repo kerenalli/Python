{
  "nbformat": 4,
  "nbformat_minor": 0,
  "metadata": {
    "colab": {
      "provenance": [],
      "mount_file_id": "1ZeO5YXi1rO1grYn_OZ_teChEJrYvT3Hx",
      "authorship_tag": "ABX9TyP5EjkJlueU/c9rQUYS2NSP",
      "include_colab_link": true
    },
    "kernelspec": {
      "name": "python3",
      "display_name": "Python 3"
    },
    "language_info": {
      "name": "python"
    }
  },
  "cells": [
    {
      "cell_type": "markdown",
      "metadata": {
        "id": "view-in-github",
        "colab_type": "text"
      },
      "source": [
        "<a href=\"https://colab.research.google.com/github/kerenalli/Python/blob/main/Module_3.ipynb\" target=\"_parent\"><img src=\"https://colab.research.google.com/assets/colab-badge.svg\" alt=\"Open In Colab\"/></a>"
      ]
    },
    {
      "cell_type": "markdown",
      "source": [
        "# **Syllabus**"
      ],
      "metadata": {
        "id": "sNfyYJVSoHfr"
      }
    },
    {
      "cell_type": "markdown",
      "source": [
        "# **3.1 Files—Python**\n",
        "  * 3.1.1 Read Files\n",
        "  * 3.1.2 Write/create Files,\n",
        "  * 3.1.3 Delete Files."
      ],
      "metadata": {
        "id": "W3tTLwbzpbYE"
      }
    },
    {
      "cell_type": "markdown",
      "source": [
        "* File handling in Python is a powerful and versatile tool that can be used to perform a wide range of operations.\n",
        "* Python supports file handling and allows users to handle files i.e., to read and write files, along with many other file handling options, to operate on files.\n",
        "* Advantages of File Handling in Python\n",
        "  * Versatility\n",
        "  * Flexibility\n",
        "  * User–friendly\n",
        "  * Cross-platform\n",
        "* Disadvantages of File Handling in Python\n",
        "  * Error-prone\n",
        "  * Security risks\n",
        "  * Complexity\n",
        "  * Performance"
      ],
      "metadata": {
        "id": "fjJK7zzEqDNr"
      }
    },
    {
      "cell_type": "code",
      "source": [
        "f1 = open(\"/content/drive/MyDrive/Colab Notebooks/Python_2324/Example Data Sets/sample.txt\", \"r\")\n",
        "print(f1.read())"
      ],
      "metadata": {
        "colab": {
          "base_uri": "https://localhost:8080/"
        },
        "id": "X2ff_6AEs75k",
        "outputId": "394c1605-edd0-4204-e499-7ebe09537e29"
      },
      "execution_count": 1,
      "outputs": [
        {
          "output_type": "stream",
          "name": "stdout",
          "text": [
            "File handling in Python is a powerful and versatile tool that can be used to perform a wide range of operations.\n",
            "Python supports file handling and allows users to handle files i.e., to read and write files, along with many other file handling options, to operate on files.\n",
            "Advantages of File Handling in Python\n",
            "Versatility\n",
            "Flexibility\n",
            "User–friendly\n",
            "Cross-platform\n",
            "Disadvantages of File Handling in Python\n",
            "Error-prone\n",
            "Security risks\n",
            "Complexity\n",
            "Performance\n"
          ]
        }
      ]
    },
    {
      "cell_type": "code",
      "source": [
        "#Read only part of the file\n",
        "f1 = open(\"/content/drive/MyDrive/Colab Notebooks/Python_2324/Example Data Sets/sample.txt\", \"r\")\n",
        "print(f1.read(100))"
      ],
      "metadata": {
        "colab": {
          "base_uri": "https://localhost:8080/"
        },
        "id": "qdzMKbqbt8KU",
        "outputId": "4147b1bd-7b94-4213-b4d3-d9768bff501d"
      },
      "execution_count": 5,
      "outputs": [
        {
          "output_type": "stream",
          "name": "stdout",
          "text": [
            "File handling in Python is a powerful and versatile tool that can be used to perform a wide range of\n"
          ]
        }
      ]
    },
    {
      "cell_type": "code",
      "source": [
        "#Read Lines\n",
        "f1 = open(\"/content/drive/MyDrive/Colab Notebooks/Python_2324/Example Data Sets/sample.txt\", \"r\")\n",
        "print(f1.readline())"
      ],
      "metadata": {
        "colab": {
          "base_uri": "https://localhost:8080/"
        },
        "id": "oiRCN1d5uQfb",
        "outputId": "813c2717-67de-4ff3-fb3d-66a2b654a8dc"
      },
      "execution_count": 7,
      "outputs": [
        {
          "output_type": "stream",
          "name": "stdout",
          "text": [
            "File handling in Python is a powerful and versatile tool that can be used to perform a wide range of operations.\n",
            "\n"
          ]
        }
      ]
    },
    {
      "cell_type": "code",
      "source": [
        "#Loop through the file line by line:\n",
        "f1 = open(\"/content/drive/MyDrive/Colab Notebooks/Python_2324/Example Data Sets/sample.txt\", \"r\")\n",
        "for line in f1:\n",
        "  print(line)"
      ],
      "metadata": {
        "colab": {
          "base_uri": "https://localhost:8080/"
        },
        "id": "USvBWI-6ujDk",
        "outputId": "894ec37a-d4ff-4477-b4ab-b715324a9c7d"
      },
      "execution_count": 9,
      "outputs": [
        {
          "output_type": "stream",
          "name": "stdout",
          "text": [
            "File handling in Python is a powerful and versatile tool that can be used to perform a wide range of operations.\n",
            "\n",
            "Python supports file handling and allows users to handle files i.e., to read and write files, along with many other file handling options, to operate on files.\n",
            "\n",
            "Advantages of File Handling in Python\n",
            "\n",
            "Versatility\n",
            "\n",
            "Flexibility\n",
            "\n",
            "User–friendly\n",
            "\n",
            "Cross-platform\n",
            "\n",
            "Disadvantages of File Handling in Python\n",
            "\n",
            "Error-prone\n",
            "\n",
            "Security risks\n",
            "\n",
            "Complexity\n",
            "\n",
            "Performance\n"
          ]
        }
      ]
    },
    {
      "cell_type": "markdown",
      "source": [
        "2. Create a file"
      ],
      "metadata": {
        "id": "Fipqtfpmu4Ue"
      }
    },
    {
      "cell_type": "code",
      "source": [
        "f2  = open(\"sample.txt\",\"w\")\n",
        "f2.write(\"Hello Good Morning. Welcome to file handling in Python.\")\n",
        "f2.close()\n",
        "\n",
        "#Read a file line by line\n",
        "f2 = open(\"sample.txt\",\"r\")\n",
        "for line in f2:\n",
        "  print(line)\n",
        "f2.close()"
      ],
      "metadata": {
        "colab": {
          "base_uri": "https://localhost:8080/"
        },
        "id": "H96dPNM6pj3J",
        "outputId": "99caead6-31a2-4268-c589-211ded51f783"
      },
      "execution_count": 10,
      "outputs": [
        {
          "output_type": "stream",
          "name": "stdout",
          "text": [
            "Hello Good Morning. Welcome to file handling in Python.\n"
          ]
        }
      ]
    },
    {
      "cell_type": "markdown",
      "source": [
        "# **3.2 Pandas**\n",
        "  * 3.2.1 Read/write from csv,\n",
        "  * 3.2.2 Read/write from excel,\n",
        "  * 3.2.3 Read/write from json files,\n",
        "  * 3.2.4 Add-drop columns\n",
        "  * 3.2.4 Add-drop rows,\n",
        "  * 3.2.5 Aggregations,\n",
        "  * 3.2.6 Applying functions."
      ],
      "metadata": {
        "id": "MRdw6r5qpfWt"
      }
    },
    {
      "cell_type": "code",
      "execution_count": null,
      "metadata": {
        "id": "vJMB_3sNgiCG"
      },
      "outputs": [],
      "source": []
    },
    {
      "cell_type": "code",
      "source": [],
      "metadata": {
        "id": "UZ1_cZk_pV1m"
      },
      "execution_count": null,
      "outputs": []
    }
  ]
}