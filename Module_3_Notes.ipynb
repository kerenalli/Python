{
  "nbformat": 4,
  "nbformat_minor": 0,
  "metadata": {
    "colab": {
      "provenance": [],
      "authorship_tag": "ABX9TyPlToPyJ+wCxXKrwLpZiceR",
      "include_colab_link": true
    },
    "kernelspec": {
      "name": "python3",
      "display_name": "Python 3"
    },
    "language_info": {
      "name": "python"
    }
  },
  "cells": [
    {
      "cell_type": "markdown",
      "metadata": {
        "id": "view-in-github",
        "colab_type": "text"
      },
      "source": [
        "<a href=\"https://colab.research.google.com/github/kerenalli/Python/blob/main/Module_3_Notes.ipynb\" target=\"_parent\"><img src=\"https://colab.research.google.com/assets/colab-badge.svg\" alt=\"Open In Colab\"/></a>"
      ]
    },
    {
      "cell_type": "markdown",
      "source": [
        "File Operations in Python"
      ],
      "metadata": {
        "id": "_OzdTnvHkLNr"
      }
    },
    {
      "cell_type": "code",
      "execution_count": 14,
      "metadata": {
        "id": "tidqc7klkHss"
      },
      "outputs": [],
      "source": [
        "#Create a file\n",
        "f = open(\"myfile1.txt\", \"a\")\n",
        "f.writelines(\"Now the file has more content! You can try\")\n",
        "f.close()"
      ]
    },
    {
      "cell_type": "code",
      "source": [
        "#open and read the file after the appending:\n",
        "f = open(\"myfile1.txt\", \"r\")\n",
        "print(f.read())\n",
        "f.close()"
      ],
      "metadata": {
        "colab": {
          "base_uri": "https://localhost:8080/"
        },
        "id": "_a24VfNr_Yg6",
        "outputId": "da9393ed-b580-42d4-b232-4e46c5d5320c"
      },
      "execution_count": 15,
      "outputs": [
        {
          "output_type": "stream",
          "name": "stdout",
          "text": [
            "Now the file has more content!\n",
            " You can tryNow the file has more content! You can try\n"
          ]
        }
      ]
    },
    {
      "cell_type": "code",
      "source": [
        "#open and read the file after the appending:\n",
        "f = open(\"myfile1.txt\", \"r\")\n",
        "print(f.readlines())"
      ],
      "metadata": {
        "colab": {
          "base_uri": "https://localhost:8080/"
        },
        "id": "cAfnDe45LMxa",
        "outputId": "10875d72-1692-41d3-a66b-0452ba6a7410"
      },
      "execution_count": 16,
      "outputs": [
        {
          "output_type": "stream",
          "name": "stdout",
          "text": [
            "['Now the file has more content!\\n', ' You can tryNow the file has more content! You can try']\n"
          ]
        }
      ]
    },
    {
      "cell_type": "code",
      "source": [
        "import os\n",
        "if os.path.exists(\"/content/myfile.txt\"):\n",
        "  os.remove(\"myfile.txt\")\n",
        "else:\n",
        "  print(\"The file does not exist\")"
      ],
      "metadata": {
        "id": "eomcjiKmUAS9"
      },
      "execution_count": 19,
      "outputs": []
    }
  ]
}