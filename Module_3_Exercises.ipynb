{
  "nbformat": 4,
  "nbformat_minor": 0,
  "metadata": {
    "colab": {
      "provenance": [],
      "mount_file_id": "1xOW52JFURPFSM1dsRvxKly_qO6guinsg",
      "authorship_tag": "ABX9TyPRE3rtsvOh3Ed1RQbGidlc",
      "include_colab_link": true
    },
    "kernelspec": {
      "name": "python3",
      "display_name": "Python 3"
    },
    "language_info": {
      "name": "python"
    }
  },
  "cells": [
    {
      "cell_type": "markdown",
      "metadata": {
        "id": "view-in-github",
        "colab_type": "text"
      },
      "source": [
        "<a href=\"https://colab.research.google.com/github/kerenalli/Python/blob/main/Module_3_Exercises.ipynb\" target=\"_parent\"><img src=\"https://colab.research.google.com/assets/colab-badge.svg\" alt=\"Open In Colab\"/></a>"
      ]
    },
    {
      "cell_type": "markdown",
      "source": [
        "# **1. Read an entire text file**"
      ],
      "metadata": {
        "id": "LxRi4cRWBlSE"
      }
    },
    {
      "cell_type": "code",
      "execution_count": 16,
      "metadata": {
        "colab": {
          "base_uri": "https://localhost:8080/"
        },
        "id": "F48J7gb2Bfba",
        "outputId": "2728ebbf-8688-467f-bb33-81835659c144"
      },
      "outputs": [
        {
          "output_type": "stream",
          "name": "stdout",
          "text": [
            "Enter the file path: /content/sample_data/README.md\n",
            "The file \"/content/sample_data/README.md\" contains: \n",
            "This directory includes a few sample datasets to get you started.\n",
            "\n",
            "*   `california_housing_data*.csv` is California housing data from the 1990 US\n",
            "    Census; more information is available at:\n",
            "    https://developers.google.com/machine-learning/crash-course/california-housing-data-description\n",
            "\n",
            "*   `mnist_*.csv` is a small sample of the\n",
            "    [MNIST database](https://en.wikipedia.org/wiki/MNIST_database), which is\n",
            "    described at: http://yann.lecun.com/exdb/mnist/\n",
            "\n",
            "*   `anscombe.json` contains a copy of\n",
            "    [Anscombe's quartet](https://en.wikipedia.org/wiki/Anscombe%27s_quartet); it\n",
            "    was originally described in\n",
            "\n",
            "    Anscombe, F. J. (1973). 'Graphs in Statistical Analysis'. American\n",
            "    Statistician. 27 (1): 17-21. JSTOR 2682899.\n",
            "\n",
            "    and our copy was prepared by the\n",
            "    [vega_datasets library](https://github.com/altair-viz/vega_datasets/blob/4f67bdaad10f45e3549984e17e1b3088c731503d/vega_datasets/_data/anscombe.json).\n",
            "\n"
          ]
        }
      ],
      "source": [
        "if __name__ == \"__main__\":\n",
        "  url = input(\"Enter the file path: \")\n",
        "  f = open(url,\"r\")\n",
        "  print(f\"The file \\\"{url}\\\" contains: \")\n",
        "  print(f.read())"
      ]
    },
    {
      "cell_type": "markdown",
      "source": [
        "# **2. Read the first n lines of a file.**"
      ],
      "metadata": {
        "id": "gzF24nlDCPS_"
      }
    },
    {
      "cell_type": "code",
      "source": [
        "if __name__ == \"__main__\":\n",
        "  n = int(input(\"Enter the number of lines you want to print: \"))\n",
        "  f = open(\"/content/drive/MyDrive/Colab Notebooks/Dataset/myfile.txt\",\"r\")\n",
        "  print(f\"The first {n} lines of the file are: \")\n",
        "  for x in range(n):\n",
        "    print(f.readline())"
      ],
      "metadata": {
        "colab": {
          "base_uri": "https://localhost:8080/"
        },
        "id": "knYIwg8JCUx_",
        "outputId": "4127666b-e22a-4856-a961-d23924714651"
      },
      "execution_count": 12,
      "outputs": [
        {
          "output_type": "stream",
          "name": "stdout",
          "text": [
            "Enter the number of lines you want to print: 6\n",
            "The first6 lines of the file are: \n",
            "read an entire text file. \n",
            "\n",
            "read the first n lines of a file. \n",
            "\n",
            "append text to a file and display the text. \n",
            "\n",
            "Read numbers from a file and write even and odd numbers to separate files. \n",
            "\n",
            "Count characters, words and lines in a text file. \n",
            "\n",
            "To write a list to a file. \n",
            "\n"
          ]
        }
      ]
    },
    {
      "cell_type": "markdown",
      "source": [
        "# **3. Append text to a file and display the text.**"
      ],
      "metadata": {
        "id": "JJ0rZefzFZsk"
      }
    },
    {
      "cell_type": "code",
      "source": [
        "if __name__ == \"__main__\":\n",
        "  #Open the file to write the new content\n",
        "  f = open(\"myfile1.txt\",\"w\")\n",
        "  f.write(\"Hello world!!\")\n",
        "  f.write(\"\\n\")\n",
        "  f.write(\"You are welcome to this platform.\")\n",
        "  f.close()\n",
        "\n",
        "  #Open the file for reading\n",
        "  f = open(\"myfile1.txt\",\"r\")\n",
        "  print(\"\\nThe file content is: \\n\")\n",
        "  print(f.read())\n",
        "  f.close()\n",
        "\n",
        "  #open the file to append the new content\n",
        "  f = open(\"myfile1.txt\",\"a\")\n",
        "  txt = input(\"\\nEnter the new content: \")\n",
        "  f.write(txt)\n",
        "  f.close()\n",
        "\n",
        "  #Open the file for reading\n",
        "  f = open(\"myfile1.txt\",\"r\")\n",
        "  print(\"The file content after addition is: \\n\")\n",
        "  print(f.read())\n",
        "  f.close()\n",
        "\n",
        "\n",
        ""
      ],
      "metadata": {
        "colab": {
          "base_uri": "https://localhost:8080/"
        },
        "id": "LgSY11-UFiF-",
        "outputId": "51688993-7a3a-4e7d-ad41-24f8aa1f927f"
      },
      "execution_count": 24,
      "outputs": [
        {
          "output_type": "stream",
          "name": "stdout",
          "text": [
            "\n",
            "The file content is: \n",
            "\n",
            "Hello world!!\n",
            "You are welcome to this platform.\n",
            "\n",
            "Enter the new content: Good morning\\nWelcome again\n",
            "The file content after addition is: \n",
            "\n",
            "Hello world!!\n",
            "You are welcome to this platform.Good morning\\nWelcome again\n"
          ]
        }
      ]
    },
    {
      "cell_type": "markdown",
      "source": [
        "# **4. Read numbers from a file and write even and odd numbers to separate files.**"
      ],
      "metadata": {
        "id": "skbjKKbNHyYW"
      }
    },
    {
      "cell_type": "code",
      "source": [],
      "metadata": {
        "colab": {
          "base_uri": "https://localhost:8080/"
        },
        "id": "GTndYojjH3AF",
        "outputId": "6c2f9ca0-90c2-4964-b691-2696ab8cc4fb"
      },
      "execution_count": 40,
      "outputs": [
        {
          "output_type": "stream",
          "name": "stdout",
          "text": [
            "[\"['1\\\\n', '2\\\\n', '3\\\\n', '4\\\\n', '5\\\\n', '6\\\\n', '7\\\\n', '8\\\\n', '9\\\\n', '10']\"]\n"
          ]
        }
      ]
    },
    {
      "cell_type": "markdown",
      "source": [
        "# **5. Count characters, words and lines in a text file**"
      ],
      "metadata": {
        "id": "Ei13dYRQKw0-"
      }
    },
    {
      "cell_type": "code",
      "source": [],
      "metadata": {
        "id": "lfr4zHLuKzY9"
      },
      "execution_count": null,
      "outputs": []
    },
    {
      "cell_type": "markdown",
      "source": [
        "# **6. To write a list to a file**"
      ],
      "metadata": {
        "id": "uack03R5LtKW"
      }
    },
    {
      "cell_type": "code",
      "source": [
        "l = []\n",
        "n = int(input(\"Enter the number of elemnets in the list: \"))\n",
        "for i in range(n):\n",
        "  ele = input(\"Enter the item: \")\n",
        "  l.append(ele)\n",
        "print(f\"The enterd list of items is {l}\")\n",
        "f = open(\"myfile3.txt\",\"w\")\n",
        "for item in l:\n",
        "  f.writelines(item)\n",
        "  f.write(\"\\n\")\n",
        "f.close()\n",
        "\n",
        "f = open(\"myfile3.txt\",\"r\")\n",
        "for line in f.readlines():\n",
        "  print(line)\n",
        "f.close()\n"
      ],
      "metadata": {
        "colab": {
          "base_uri": "https://localhost:8080/"
        },
        "id": "w4-l20tHLviW",
        "outputId": "2d0fb1df-7647-4d9a-dbaf-8177eaa6bfad"
      },
      "execution_count": 55,
      "outputs": [
        {
          "output_type": "stream",
          "name": "stdout",
          "text": [
            "Enter the number of elemnets in the list: 5\n",
            "Enter the item: 1\n",
            "Enter the item: 2\n",
            "Enter the item: 3\n",
            "Enter the item: 4\n",
            "Enter the item: 5\n",
            "The enterd list of items is ['1', '2', '3', '4', '5']\n",
            "1\n",
            "\n"
          ]
        }
      ]
    },
    {
      "cell_type": "markdown",
      "source": [
        "# **7. Given a CSV file or excel file to read it into a dataframe and display it**"
      ],
      "metadata": {
        "id": "7h3ERiNAOcvt"
      }
    },
    {
      "cell_type": "code",
      "source": [
        "f = open(\"myfile3.txt\",\"r\")\n",
        "for line in f.readlines():\n",
        "  print(line)\n",
        "f.close()"
      ],
      "metadata": {
        "colab": {
          "base_uri": "https://localhost:8080/"
        },
        "id": "ZoJ313q7ODHx",
        "outputId": "5f2af814-811e-4e35-d9f0-af92fdc83e17"
      },
      "execution_count": 58,
      "outputs": [
        {
          "output_type": "stream",
          "name": "stdout",
          "text": [
            "1\n",
            "\n",
            "2\n",
            "\n",
            "3\n",
            "\n",
            "4\n",
            "\n",
            "5\n",
            "\n"
          ]
        }
      ]
    },
    {
      "cell_type": "markdown",
      "source": [
        "# **8. Given a dataframe, select rows based on a condition.**"
      ],
      "metadata": {
        "id": "eGfuv4vKOiDp"
      }
    },
    {
      "cell_type": "code",
      "source": [],
      "metadata": {
        "id": "4NqBAAeNOwAe"
      },
      "execution_count": null,
      "outputs": []
    },
    {
      "cell_type": "markdown",
      "source": [
        "# **9. Given is a dataframe showing the name, occupation, salary of people. Find the average salary per occupation**"
      ],
      "metadata": {
        "id": "laD8LnNwOm9_"
      }
    },
    {
      "cell_type": "code",
      "source": [],
      "metadata": {
        "id": "bm9xswAcOwmB"
      },
      "execution_count": null,
      "outputs": []
    },
    {
      "cell_type": "markdown",
      "source": [
        "# **10. To convert Python objects into JSON strings. Print all the values.**"
      ],
      "metadata": {
        "id": "Kp356cIQOxJt"
      }
    },
    {
      "cell_type": "code",
      "source": [
        "import pandas as pd\n",
        "d = {\"Names\":[\"sudarshan\",\"kerenalli\",\"shekhar\"],\n",
        "     \"address\":[\"sandur\",\"bellary\",\"karnataka\"]}\n",
        "df = pd.DataFrame(d)\n",
        "print(df)\n",
        "df.to_json(\"myfile.json\")"
      ],
      "metadata": {
        "colab": {
          "base_uri": "https://localhost:8080/"
        },
        "id": "316WOkTWO28A",
        "outputId": "f9ccc75d-31c0-4511-c1d2-294a2429355f"
      },
      "execution_count": 64,
      "outputs": [
        {
          "output_type": "stream",
          "name": "stdout",
          "text": [
            "       Names    address\n",
            "0  sudarshan     sandur\n",
            "1  kerenalli    bellary\n",
            "2    shekhar  karnataka\n"
          ]
        }
      ]
    },
    {
      "cell_type": "markdown",
      "source": [
        "# **11. Write a Pandas program to read specific columns from a given excel file**"
      ],
      "metadata": {
        "id": "3W4-tI5mQFeY"
      }
    },
    {
      "cell_type": "code",
      "source": [
        "import pandas as pd\n",
        "d = {\"Names\":[\"sudarshan\",\"kerenalli\",\"shekhar\"],\n",
        "     \"address\":[\"sandur\",\"bellary\",\"karnataka\"]}\n",
        "df = pd.DataFrame(d)\n",
        "print(df)\n",
        "df.to_excel(\"myfile.xlsx\")"
      ],
      "metadata": {
        "colab": {
          "base_uri": "https://localhost:8080/"
        },
        "id": "0WXZ1tAYQ0P2",
        "outputId": "2eba6bd4-859a-445e-c9e1-1059673d12e3"
      },
      "execution_count": 74,
      "outputs": [
        {
          "output_type": "stream",
          "name": "stdout",
          "text": [
            "       Names    address\n",
            "0  sudarshan     sandur\n",
            "1  kerenalli    bellary\n",
            "2    shekhar  karnataka\n"
          ]
        }
      ]
    },
    {
      "cell_type": "code",
      "source": [
        "df = pd.read_excel(\"/content/myfile.xlsx\")\n",
        "print(df.columns)\n",
        "print(df[\"address\"])"
      ],
      "metadata": {
        "colab": {
          "base_uri": "https://localhost:8080/"
        },
        "id": "pbjmRN6sQJGo",
        "outputId": "334f704b-23b8-44f5-815b-e173ccb58ad4"
      },
      "execution_count": 79,
      "outputs": [
        {
          "output_type": "stream",
          "name": "stdout",
          "text": [
            "Index(['Unnamed: 0', 'Names', 'address'], dtype='object')\n",
            "0       sandur\n",
            "1      bellary\n",
            "2    karnataka\n",
            "Name: address, dtype: object\n"
          ]
        }
      ]
    }
  ]
}