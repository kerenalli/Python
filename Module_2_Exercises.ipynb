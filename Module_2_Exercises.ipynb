{
  "nbformat": 4,
  "nbformat_minor": 0,
  "metadata": {
    "colab": {
      "provenance": [],
      "include_colab_link": true
    },
    "kernelspec": {
      "name": "python3",
      "display_name": "Python 3"
    },
    "language_info": {
      "name": "python"
    }
  },
  "cells": [
    {
      "cell_type": "markdown",
      "metadata": {
        "id": "view-in-github",
        "colab_type": "text"
      },
      "source": [
        "<a href=\"https://colab.research.google.com/github/kerenalli/Python/blob/main/Module_2_Exercises.ipynb\" target=\"_parent\"><img src=\"https://colab.research.google.com/assets/colab-badge.svg\" alt=\"Open In Colab\"/></a>"
      ]
    },
    {
      "cell_type": "markdown",
      "source": [
        "1. Create a function which accepts two inputs from the user and compute nCr"
      ],
      "metadata": {
        "id": "usvje0gVW6Ft"
      }
    },
    {
      "cell_type": "code",
      "execution_count": null,
      "metadata": {
        "colab": {
          "base_uri": "https://localhost:8080/"
        },
        "id": "Mh6ZbkuUWmwR",
        "outputId": "606ea91a-a44c-4061-a02c-be2a5a332631"
      },
      "outputs": [
        {
          "output_type": "stream",
          "name": "stdout",
          "text": [
            "Enter the n value 5\n",
            "Enter the r value 2\n",
            "The number of ways in which 2 items can be selected from5 is10.0\n"
          ]
        }
      ],
      "source": [
        "def fact(num):\n",
        "  return 1 if num == 0 else num * fact(num-1)\n",
        "\n",
        "def ncr():\n",
        "  n = int(input(\"Enter the n value \"))\n",
        "  r = int(input(\"Enter the r value \"))\n",
        "  res = (fact(n)/(fact(n-r)*fact(r)))\n",
        "  print(\"The number of ways in which {} items can be selected from{} is{}\".format(r,n,res))\n",
        "\n",
        "if __name__ == \"__main__\":\n",
        "  ncr()\n"
      ]
    },
    {
      "cell_type": "markdown",
      "source": [
        "2. Recursive function to compute GCD of 2 numbers"
      ],
      "metadata": {
        "id": "N9l6FzgSYcEN"
      }
    },
    {
      "cell_type": "code",
      "source": [
        "from re import M\n",
        "def gcd(m,n):\n",
        "  if m == 0:\n",
        "    return n\n",
        "  else:\n",
        "    return gcd(n%m, m)\n",
        "\n",
        "if __name__ == \"__main__\":\n",
        "  m = int(input(\"Enter the first value \"))\n",
        "  n = int(input(\"Enter the second value \"))\n",
        "  print(\"The greatest common divisor of {} and {} is {}\".format(m,n,gcd(45,15)))"
      ],
      "metadata": {
        "colab": {
          "base_uri": "https://localhost:8080/"
        },
        "id": "-5MQiJgYYbd9",
        "outputId": "aca8071f-4078-4582-8f88-f768af89f568"
      },
      "execution_count": null,
      "outputs": [
        {
          "output_type": "stream",
          "name": "stdout",
          "text": [
            "Enter the first value 625\n",
            "Enter the second value 125\n",
            "The greatest common divisor of 625 and 125 is 15\n"
          ]
        }
      ]
    },
    {
      "cell_type": "markdown",
      "source": [
        "3. Recursive function to find product of two numbers"
      ],
      "metadata": {
        "id": "Tv8bgQYiZhnd"
      }
    },
    {
      "cell_type": "code",
      "source": [
        "def product(multipler, multiplicand):\n",
        "  if multiplicand == 0:\n",
        "    return 0\n",
        "  else:\n",
        "    return multiplicand + product(multiplicand, multipler-1)\n",
        "\n",
        "if __name__ == \"__main__\":\n",
        "  multiplicand= int(input(\"Enter the multiplicand: \"))\n",
        "  multipler = int(input(\"Enter the multiplier: \"))\n",
        "  print(\"The product of {} and {} is {}.\".format(multiplicand, multipler,product(multipler, multiplicand)))"
      ],
      "metadata": {
        "colab": {
          "base_uri": "https://localhost:8080/"
        },
        "id": "_eIzX38lZmAs",
        "outputId": "7cd6d37e-340d-4571-d456-752767c9298f"
      },
      "execution_count": null,
      "outputs": [
        {
          "output_type": "stream",
          "name": "stdout",
          "text": [
            "Enter the multiplicand: 12\n",
            "Enter the multiplier: 10\n",
            "The product of 12 and 10 is 120.\n"
          ]
        }
      ]
    },
    {
      "cell_type": "markdown",
      "source": [
        "4. Recursive function to generate Fibonacci series"
      ],
      "metadata": {
        "id": "CyI6lb3Yal4b"
      }
    },
    {
      "cell_type": "code",
      "source": [
        "def fib(num):\n",
        "  return num if num == 0 or num == 1 else fib(num-1) + fib(num-2)\n",
        "\n",
        "if __name__ == \"__main__\":\n",
        "  m = int(input(\"Enter the number: \"))\n",
        "  print(\"The first {} fibonacci numbers are: \".format(m))\n",
        "  for i in range(m+1):\n",
        "    print(fib(i))\n"
      ],
      "metadata": {
        "colab": {
          "base_uri": "https://localhost:8080/"
        },
        "id": "HWFhMb-2arRj",
        "outputId": "b462eae8-e101-4442-e5de-abdf917e18e3"
      },
      "execution_count": null,
      "outputs": [
        {
          "output_type": "stream",
          "name": "stdout",
          "text": [
            "Enter the number: 9\n",
            "The first 9 fibonacci numbers are: \n",
            "0\n",
            "1\n",
            "1\n",
            "2\n",
            "3\n",
            "5\n",
            "8\n",
            "13\n",
            "21\n",
            "34\n"
          ]
        }
      ]
    },
    {
      "cell_type": "markdown",
      "source": [
        "5. Program to print a specified list after removing the 0th, 4th and 5th elements.\n",
        "Sample List : ['Red', 'Green', 'White', 'Black', 'Pink', 'Yellow']\n",
        "Expected Output : ['Green', 'White', 'Black']"
      ],
      "metadata": {
        "id": "72wQdJOkbVw0"
      }
    },
    {
      "cell_type": "code",
      "source": [
        "if __name__ == \"__main__\":\n",
        "  l1 = ['Red', 'Green', 'White', 'Black', 'Pink', 'Yellow']\n",
        "  item5 = l1.pop(5)\n",
        "  item4 = l1.pop(4)\n",
        "  item0 = l1.pop(0)\n",
        "  print(\"The list after deleting {}, {}, {} is: {}\".format(item5, item4, item0, l1))"
      ],
      "metadata": {
        "colab": {
          "base_uri": "https://localhost:8080/"
        },
        "id": "F14eABPPbcdM",
        "outputId": "2b24e0ea-27ad-402e-c105-ec350bead35f"
      },
      "execution_count": null,
      "outputs": [
        {
          "output_type": "stream",
          "name": "stdout",
          "text": [
            "The list after deleting Yellow, Pink, Red is: ['Green', 'White', 'Black']\n"
          ]
        }
      ]
    },
    {
      "cell_type": "markdown",
      "source": [
        "6. Program to get the difference between the two lists."
      ],
      "metadata": {
        "id": "oQI7Xu3ucu5z"
      }
    },
    {
      "cell_type": "code",
      "source": [
        "if __name__ == \"__main__\":\n",
        "  l1 = ['Red', 'Green', 'White', 'Black', 'Pink', 'Yellow']\n",
        "  l2 = ['Green', 'White', 'Black']\n",
        "  l3 = []\n",
        "  for item in l1:\n",
        "    if item not in l2:\n",
        "      l3.append(item)\n",
        "  print(\"list1 is: \",l1)\n",
        "  print(\"list2 is: \",l2)\n",
        "  print(\"The difference between the two lists is: \",l3)\n"
      ],
      "metadata": {
        "colab": {
          "base_uri": "https://localhost:8080/"
        },
        "id": "i6JzSt2bczLy",
        "outputId": "887a6c99-49ec-4d65-890f-c0730d25165b"
      },
      "execution_count": null,
      "outputs": [
        {
          "output_type": "stream",
          "name": "stdout",
          "text": [
            "The difference between the two lists is:  ['Red', 'Pink', 'Yellow']\n"
          ]
        }
      ]
    },
    {
      "cell_type": "markdown",
      "source": [
        "7.  Program to find the second smallest number and second largest number in a list."
      ],
      "metadata": {
        "id": "E0kkLR-4eglb"
      }
    },
    {
      "cell_type": "code",
      "source": [
        "if __name__ == \"__main__\":\n",
        "  l1 = [10,20,50,30,5,60,87,90,12,8]\n",
        "  l1.sort()\n",
        "  print(l1)\n",
        "  print(\"The second smallest number is {}.\\nThe second largest number is: {}.\".format(l1[1], l1[-2]))"
      ],
      "metadata": {
        "colab": {
          "base_uri": "https://localhost:8080/"
        },
        "id": "_2syFNikejpO",
        "outputId": "0003d826-6685-43fb-f5c4-04f431b98616"
      },
      "execution_count": null,
      "outputs": [
        {
          "output_type": "stream",
          "name": "stdout",
          "text": [
            "[5, 8, 10, 12, 20, 30, 50, 60, 87, 90]\n",
            "The second smallest number is 8.\n",
            "The second largest number is: 87.\n"
          ]
        }
      ]
    },
    {
      "cell_type": "markdown",
      "source": [
        "8. Given a list of numbers of list, write a Python program to create a list of tuples having first element as the number and second element as the square of the number."
      ],
      "metadata": {
        "id": "3_TpGXCffURG"
      }
    },
    {
      "cell_type": "code",
      "source": [
        "if __name__ == \"__main__\":\n",
        "  l1 = [10,20,50,30,5,60,87,90,12,8]\n",
        "  l2 = [(x,x*x) for x in l1]\n",
        "  print(\"The original list is: \",l1)\n",
        "  print(\"The new list is: \",l2)"
      ],
      "metadata": {
        "colab": {
          "base_uri": "https://localhost:8080/"
        },
        "id": "9IMwvnicfZ3G",
        "outputId": "dc4870bd-7558-4104-b52e-88588e1760b6"
      },
      "execution_count": null,
      "outputs": [
        {
          "output_type": "stream",
          "name": "stdout",
          "text": [
            "The original list is:  [10, 20, 50, 30, 5, 60, 87, 90, 12, 8]\n",
            "The new list is:  [(10, 100), (20, 400), (50, 2500), (30, 900), (5, 25), (60, 3600), (87, 7569), (90, 8100), (12, 144), (8, 64)]\n"
          ]
        }
      ]
    },
    {
      "cell_type": "markdown",
      "source": [
        "9. Given list of tuples, remove all the tuples with length K.\n",
        "* Input : test_list = [(4, 5), (4, ), (8, 6, 7), (1, ), (3, 4, 6, 7)], K = 2\n",
        "* Output : [(4, ), (8, 6, 7), (1, ), (3, 4, 6, 7)]\n",
        "* Explanation : (4, 5) of len = 2 is removed.\n"
      ],
      "metadata": {
        "id": "Oft3L42BgB9o"
      }
    },
    {
      "cell_type": "code",
      "source": [
        "if __name__ == \"__main__\":\n",
        "  test_list = [(4, 5), (4, ), (8, 6, 7), (1, 2), (3, 4, 6, 7)]\n",
        "  k = int(input(\"Enter the length of the tuple to be removed: \"))\n",
        "  output_list = [x for x in test_list if len(x)==2]\n",
        "  print(output_list)"
      ],
      "metadata": {
        "colab": {
          "base_uri": "https://localhost:8080/"
        },
        "id": "AXUQBUMqgIYH",
        "outputId": "4bf80377-504a-4794-be22-edce81d47389"
      },
      "execution_count": null,
      "outputs": [
        {
          "output_type": "stream",
          "name": "stdout",
          "text": [
            "Enter the length of the tuple to be removed: 2\n",
            "[(4, 5), (1, 2)]\n"
          ]
        }
      ]
    },
    {
      "cell_type": "markdown",
      "source": [
        "10. Program to generate and print a dictionary that contains a number (between 1 and n) in the form (x, x*x).\n",
        "Sample Input: (n=5) :\n",
        "Expected Output : {1: 1, 2: 4, 3: 9, 4: 16, 5: 25}\n"
      ],
      "metadata": {
        "id": "XRtfhJ53hB0g"
      }
    },
    {
      "cell_type": "code",
      "source": [
        "if __name__ == \"__main__\":\n",
        "  d1 =dict()\n",
        "  n = int(input(\"Enter the  number: \"))\n",
        "  for x in range(n+1):\n",
        "    d1[x] = x*x\n",
        "  print(\"The result is: \",d1)"
      ],
      "metadata": {
        "colab": {
          "base_uri": "https://localhost:8080/"
        },
        "id": "Rn4wHdnGhJ4K",
        "outputId": "b13b4302-d028-403a-eff6-88f667a2d033"
      },
      "execution_count": null,
      "outputs": [
        {
          "output_type": "stream",
          "name": "stdout",
          "text": [
            "Enter the  number: 6\n",
            "The result is:  {0: 0, 1: 1, 2: 4, 3: 9, 4: 16, 5: 25, 6: 36}\n"
          ]
        }
      ]
    },
    {
      "cell_type": "markdown",
      "source": [
        "11. Program to remove a key from a dictionary"
      ],
      "metadata": {
        "id": "g6KpX11Xh_QP"
      }
    },
    {
      "cell_type": "code",
      "source": [
        "if __name__ == \"__main__\":\n",
        "  d1 = {0: 0, 1: 1, 2: 4, 3: 9, 4: 16, 5: 25, 6: 36}\n",
        "  print(\"The dictionary items are: \\n\", d1)\n",
        "  k = int(input(\"Enter the key to be deleted: \"))\n",
        "  d1.pop(k)\n",
        "  print(\"The dictionary items after the delete are: \\n\",d1)"
      ],
      "metadata": {
        "colab": {
          "base_uri": "https://localhost:8080/"
        },
        "id": "LSAAsq39iHrK",
        "outputId": "18b83831-fb73-4229-c54a-d5760851dce0"
      },
      "execution_count": null,
      "outputs": [
        {
          "output_type": "stream",
          "name": "stdout",
          "text": [
            "The dictionary items are: \n",
            " {0: 0, 1: 1, 2: 4, 3: 9, 4: 16, 5: 25, 6: 36}\n",
            "Enter the key to be deleted: 4\n",
            "The dictionary items after the delete are: \n",
            " {0: 0, 1: 1, 2: 4, 3: 9, 5: 25, 6: 36}\n"
          ]
        }
      ]
    },
    {
      "cell_type": "markdown",
      "source": [
        "12. Program to get the maximum and minimum value in a dictionary.\n"
      ],
      "metadata": {
        "id": "OKz5n5fkjNkC"
      }
    },
    {
      "cell_type": "code",
      "source": [
        "if __name__ == \"__main__\":\n",
        "  d1 = {0: 0, 1: 1, 2: 4, 3: 9, 4: 16, 5: 25, 6: 36}\n",
        "  min = max = d1[0]\n",
        "\n",
        "  print(\"The dictionary values are: \")\n",
        "  for val in d1.values():\n",
        "    print(val)\n",
        "  for val in d1.values():\n",
        "    if min > val:\n",
        "      min = val\n",
        "  for val in d1.values():\n",
        "    if max< val:\n",
        "      max = val\n",
        "  print(\"The minimum value is: \",min)\n",
        "  print(\"The maximum value is: \",max)\n"
      ],
      "metadata": {
        "colab": {
          "base_uri": "https://localhost:8080/"
        },
        "id": "T2TzYYMEjRQA",
        "outputId": "312c788c-2d3e-4bcf-cac4-9dbded9040a2"
      },
      "execution_count": null,
      "outputs": [
        {
          "output_type": "stream",
          "name": "stdout",
          "text": [
            "The dictionary values are: \n",
            "0\n",
            "1\n",
            "4\n",
            "9\n",
            "16\n",
            "25\n",
            "36\n",
            "The minimum value is:  0\n",
            "The maximum value is:  36\n"
          ]
        }
      ]
    },
    {
      "cell_type": "markdown",
      "source": [
        "13. Program to perform operations on string using unicodes,splitting of string,accessing elements of string using locations"
      ],
      "metadata": {
        "id": "IvtHLcXyk1ig"
      }
    },
    {
      "cell_type": "code",
      "source": [],
      "metadata": {
        "id": "AXbeDfLclZWQ"
      },
      "execution_count": null,
      "outputs": []
    },
    {
      "cell_type": "markdown",
      "source": [
        "14. Program for Counting occurrence of a certain element in a string, getting indexes that have matching elements.For ex -.In Rabbit count how many times b has occurred .\n"
      ],
      "metadata": {
        "id": "D10p51cnlZv_"
      }
    },
    {
      "cell_type": "code",
      "source": [
        "def count_occurrences_and_indexes(string, char):\n",
        "    count = string.count(char)\n",
        "    indexes = [i for i, c in enumerate(string) if c == char]\n",
        "    return count, indexes\n",
        "\n",
        "if __name__ == \"__main__\":\n",
        "  string = input(\"Enter the main string\")\n",
        "  char = input(\"Enter the character\")\n",
        "  count, indexes = count_occurrences_and_indexes(string, char)\n",
        "\n",
        "  print(f\"Count of '{char}' in '{string}':\", count)\n",
        "  print(f\"Indexes of '{char}' in '{string}':\", indexes)\n"
      ],
      "metadata": {
        "colab": {
          "base_uri": "https://localhost:8080/"
        },
        "id": "J5d7i8tblen_",
        "outputId": "4cc70e04-d5cd-4531-b017-f6526ba48b6f"
      },
      "execution_count": 3,
      "outputs": [
        {
          "output_type": "stream",
          "name": "stdout",
          "text": [
            "Enter the main stringkerenalli\n",
            "Enter the characteri\n",
            "Count of 'i' in 'kerenalli': 1\n",
            "Indexes of 'i' in 'kerenalli': [8]\n"
          ]
        }
      ]
    },
    {
      "cell_type": "markdown",
      "source": [
        " 15. Program for replacing one substring by another For example - Rabbit - Replace ‘bb’ by\n",
        "‘cc’"
      ],
      "metadata": {
        "id": "9taxFn7wmU_0"
      }
    },
    {
      "cell_type": "code",
      "source": [
        "string = input(\"Enter the string: \")\n",
        "sub = input(\"Enter the substring to replacement: \")\n",
        "resub = input(\"Enter the substring for replacement: \")\n",
        "print(\"The resultant string after replacement\",string.replace(sub, resub))"
      ],
      "metadata": {
        "colab": {
          "base_uri": "https://localhost:8080/"
        },
        "id": "S2iGL4TMlvvP",
        "outputId": "fced9330-fef8-44e2-82bd-83a6d6a34175"
      },
      "execution_count": null,
      "outputs": [
        {
          "output_type": "stream",
          "name": "stdout",
          "text": [
            "Enter the string: Counting occurrence of a certain element in a string\n",
            "Enter the substring to replacement: cc\n",
            "Enter the substring for replacement: ss\n",
            "The resultant string after replacement Counting ossurrence of a certain element in a string\n"
          ]
        }
      ]
    },
    {
      "cell_type": "markdown",
      "source": [
        "16. Program to Acronym generator for any user input (ex-input is Random memory access then output should be RMA).Example - Random number (RN)"
      ],
      "metadata": {
        "id": "lkID27XFojYV"
      }
    },
    {
      "cell_type": "code",
      "source": [
        "s = input(\"Enter the string: \")\n",
        "l = s.split(\" \")\n",
        "ac = \"\"\n",
        "for st in l:\n",
        "  ac= ac + st[0]\n",
        "print(\"The acronym of {} is {}.\".format(s, ac.upper()))\n",
        "#print(ac.upper())"
      ],
      "metadata": {
        "colab": {
          "base_uri": "https://localhost:8080/"
        },
        "id": "uVo2-p4donbO",
        "outputId": "5a02d482-0705-4313-edd8-30b4b4ebfebc"
      },
      "execution_count": null,
      "outputs": [
        {
          "output_type": "stream",
          "name": "stdout",
          "text": [
            "Enter the string: sudarshana kerenalli shekhar\n",
            "The acronym of sudarshana kerenalli shekhar is SKS.\n"
          ]
        }
      ]
    },
    {
      "cell_type": "markdown",
      "source": [
        "17. Python function that accepts a string and calculates the number of uppercase letters and lowercase letters."
      ],
      "metadata": {
        "id": "73YznVvQrGWA"
      }
    },
    {
      "cell_type": "code",
      "source": [
        "\n",
        "def calculate(s):\n",
        "  lcount = ucount = 0\n",
        "  for i in s:\n",
        "    if i.isupper():\n",
        "      ucount = ucount + 1\n",
        "    elif i.lower():\n",
        "      lcount = lcount + 1\n",
        "\n",
        "  print(\"The number of capital letters: \", ucount)\n",
        "  print(\"The number of lower cap letters: \", lcount)\n",
        "\n",
        "if __name__ == \"__main__\":\n",
        "  s = input(\"Enter the string: \")\n",
        "  calculate(s)"
      ],
      "metadata": {
        "colab": {
          "base_uri": "https://localhost:8080/"
        },
        "id": "Am_j-FFKrNSD",
        "outputId": "40c1bc6c-ad61-46b6-fe8b-2f4c896fe443"
      },
      "execution_count": null,
      "outputs": [
        {
          "output_type": "stream",
          "name": "stdout",
          "text": [
            "Enter the string: Python String Format() Method\n",
            "The number of capital letters:  4\n",
            "The number of lower cap letters:  25\n"
          ]
        }
      ]
    },
    {
      "cell_type": "markdown",
      "source": [
        "18. Program to count the number of strings where the string length is 2 or more and the first and last character are same from a given list of strings"
      ],
      "metadata": {
        "id": "2jIaYDVLs029"
      }
    },
    {
      "cell_type": "code",
      "source": [
        "if __name__ == \"__main__\":\n",
        "  Sample_List = ['abca', 'xyz', 'aba', '1221']\n",
        "  count = 0\n",
        "  print(\"The string length of 2 or more with same first and last character are: \")\n",
        "  for sub in Sample_List:\n",
        "    if len(sub)>=2 and (sub[0]==sub[-1]):\n",
        "      print(sub)\n",
        "      count = count + 1\n",
        "  print(\"The number of strings are  \",count)"
      ],
      "metadata": {
        "colab": {
          "base_uri": "https://localhost:8080/"
        },
        "id": "nbmQh42es3yc",
        "outputId": "ea37ca57-e193-4ad5-e179-cb58f2f0b840"
      },
      "execution_count": null,
      "outputs": [
        {
          "output_type": "stream",
          "name": "stdout",
          "text": [
            "The string length of 2 or more with same first and last character are: \n",
            "abca\n",
            "aba\n",
            "1221\n",
            "The number of strings are   3\n"
          ]
        }
      ]
    }
  ]
}