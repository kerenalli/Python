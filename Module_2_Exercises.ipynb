{
  "cells": [
    {
      "cell_type": "markdown",
      "metadata": {
        "id": "view-in-github",
        "colab_type": "text"
      },
      "source": [
        "<a href=\"https://colab.research.google.com/github/kerenalli/Python/blob/main/Module_2_Exercises.ipynb\" target=\"_parent\"><img src=\"https://colab.research.google.com/assets/colab-badge.svg\" alt=\"Open In Colab\"/></a>"
      ]
    },
    {
      "cell_type": "markdown",
      "metadata": {
        "id": "usvje0gVW6Ft"
      },
      "source": [
        "1. Create a function which accepts two inputs from the user and compute nCr"
      ]
    },
    {
      "cell_type": "code",
      "execution_count": null,
      "metadata": {
        "colab": {
          "base_uri": "https://localhost:8080/"
        },
        "id": "Mh6ZbkuUWmwR",
        "outputId": "606ea91a-a44c-4061-a02c-be2a5a332631"
      },
      "outputs": [
        {
          "name": "stdout",
          "output_type": "stream",
          "text": [
            "Enter the n value 5\n",
            "Enter the r value 2\n",
            "The number of ways in which 2 items can be selected from5 is10.0\n"
          ]
        }
      ],
      "source": [
        "def fact(num):\n",
        "  return 1 if num == 0 else num * fact(num-1)\n",
        "\n",
        "def ncr():\n",
        "  n = int(input(\"Enter the n value \"))\n",
        "  r = int(input(\"Enter the r value \"))\n",
        "  res = (fact(n)/(fact(n-r)*fact(r)))\n",
        "  print(\"The number of ways in which {} items can be selected from{} is{}\".format(r,n,res))\n",
        "\n",
        "if __name__ == \"__main__\":\n",
        "  ncr()\n"
      ]
    },
    {
      "cell_type": "markdown",
      "metadata": {
        "id": "N9l6FzgSYcEN"
      },
      "source": [
        "2. Recursive function to compute GCD of 2 numbers"
      ]
    },
    {
      "cell_type": "code",
      "execution_count": null,
      "metadata": {
        "colab": {
          "base_uri": "https://localhost:8080/"
        },
        "id": "-5MQiJgYYbd9",
        "outputId": "aca8071f-4078-4582-8f88-f768af89f568"
      },
      "outputs": [
        {
          "name": "stdout",
          "output_type": "stream",
          "text": [
            "Enter the first value 625\n",
            "Enter the second value 125\n",
            "The greatest common divisor of 625 and 125 is 15\n"
          ]
        }
      ],
      "source": [
        "from re import M\n",
        "def gcd(m,n):\n",
        "  if m == 0:\n",
        "    return n\n",
        "  else:\n",
        "    return gcd(n%m, m)\n",
        "\n",
        "if __name__ == \"__main__\":\n",
        "  m = int(input(\"Enter the first value \"))\n",
        "  n = int(input(\"Enter the second value \"))\n",
        "  print(\"The greatest common divisor of {} and {} is {}\".format(m,n,gcd(45,15)))"
      ]
    },
    {
      "cell_type": "markdown",
      "metadata": {
        "id": "Tv8bgQYiZhnd"
      },
      "source": [
        "3. Recursive function to find product of two numbers"
      ]
    },
    {
      "cell_type": "code",
      "execution_count": 1,
      "metadata": {
        "id": "_eIzX38lZmAs",
        "colab": {
          "base_uri": "https://localhost:8080/"
        },
        "outputId": "c030c074-7548-4fda-aed8-ca9130630dd0"
      },
      "outputs": [
        {
          "output_type": "stream",
          "name": "stdout",
          "text": [
            "Enter the multiplicand: 10\n",
            "Enter the multiplier: 5\n",
            "The product of 10 and 5 is:50 \n"
          ]
        }
      ],
      "source": [
        "def product(m,n):\n",
        "  if n == 0:\n",
        "    return 0\n",
        "  else:\n",
        "    return m + product(m, n-1)\n",
        "\n",
        "if __name__ == \"__main__\":\n",
        "  m = int(input(\"Enter the multiplicand: \"))\n",
        "  n = int(input(\"Enter the multiplier: \"))\n",
        "  q = product(m,n)\n",
        "  print(f\"The product of {m} and {n} is:{q}.\")"
      ]
    },
    {
      "cell_type": "markdown",
      "metadata": {
        "id": "CyI6lb3Yal4b"
      },
      "source": [
        "4. Recursive function to generate Fibonacci series"
      ]
    },
    {
      "cell_type": "code",
      "execution_count": null,
      "metadata": {
        "colab": {
          "base_uri": "https://localhost:8080/"
        },
        "id": "HWFhMb-2arRj",
        "outputId": "b462eae8-e101-4442-e5de-abdf917e18e3"
      },
      "outputs": [
        {
          "name": "stdout",
          "output_type": "stream",
          "text": [
            "Enter the number: 9\n",
            "The first 9 fibonacci numbers are: \n",
            "0\n",
            "1\n",
            "1\n",
            "2\n",
            "3\n",
            "5\n",
            "8\n",
            "13\n",
            "21\n",
            "34\n"
          ]
        }
      ],
      "source": [
        "def fib(num):\n",
        "  return num if num == 0 or num == 1 else fib(num-1) + fib(num-2)\n",
        "\n",
        "if __name__ == \"__main__\":\n",
        "  m = int(input(\"Enter the number: \"))\n",
        "  print(\"The first {} fibonacci numbers are: \".format(m))\n",
        "  for i in range(m+1):\n",
        "    print(fib(i))\n"
      ]
    },
    {
      "cell_type": "markdown",
      "metadata": {
        "id": "72wQdJOkbVw0"
      },
      "source": [
        "5. Program to print a specified list after removing the 0th, 4th and 5th elements.\n",
        "Sample List : ['Red', 'Green', 'White', 'Black', 'Pink', 'Yellow']\n",
        "Expected Output : ['Green', 'White', 'Black']"
      ]
    },
    {
      "cell_type": "code",
      "execution_count": null,
      "metadata": {
        "colab": {
          "base_uri": "https://localhost:8080/"
        },
        "id": "F14eABPPbcdM",
        "outputId": "2b24e0ea-27ad-402e-c105-ec350bead35f"
      },
      "outputs": [
        {
          "name": "stdout",
          "output_type": "stream",
          "text": [
            "The list after deleting Yellow, Pink, Red is: ['Green', 'White', 'Black']\n"
          ]
        }
      ],
      "source": [
        "if __name__ == \"__main__\":\n",
        "  l1 = ['Red', 'Green', 'White', 'Black', 'Pink', 'Yellow']\n",
        "  item5 = l1.pop(5)\n",
        "  item4 = l1.pop(4)\n",
        "  item0 = l1.pop(0)\n",
        "  print(\"The list after deleting {}, {}, {} is: {}\".format(item5, item4, item0, l1))"
      ]
    },
    {
      "cell_type": "markdown",
      "metadata": {
        "id": "oQI7Xu3ucu5z"
      },
      "source": [
        "6. Program to get the difference between the two lists."
      ]
    },
    {
      "cell_type": "code",
      "execution_count": null,
      "metadata": {
        "colab": {
          "base_uri": "https://localhost:8080/"
        },
        "id": "i6JzSt2bczLy",
        "outputId": "887a6c99-49ec-4d65-890f-c0730d25165b"
      },
      "outputs": [
        {
          "name": "stdout",
          "output_type": "stream",
          "text": [
            "The difference between the two lists is:  ['Red', 'Pink', 'Yellow']\n"
          ]
        }
      ],
      "source": [
        "if __name__ == \"__main__\":\n",
        "  l1 = ['Red', 'Green', 'White', 'Black', 'Pink', 'Yellow']\n",
        "  l2 = ['Green', 'White', 'Black']\n",
        "  l3 = []\n",
        "  for item in l1:\n",
        "    if item not in l2:\n",
        "      l3.append(item)\n",
        "  print(\"list1 is: \",l1)\n",
        "  print(\"list2 is: \",l2)\n",
        "  print(\"The difference between the two lists is: \",l3)\n"
      ]
    },
    {
      "cell_type": "markdown",
      "metadata": {
        "id": "E0kkLR-4eglb"
      },
      "source": [
        "7.  Program to find the second smallest number and second largest number in a list."
      ]
    },
    {
      "cell_type": "code",
      "execution_count": null,
      "metadata": {
        "colab": {
          "base_uri": "https://localhost:8080/"
        },
        "id": "_2syFNikejpO",
        "outputId": "0003d826-6685-43fb-f5c4-04f431b98616"
      },
      "outputs": [
        {
          "name": "stdout",
          "output_type": "stream",
          "text": [
            "[5, 8, 10, 12, 20, 30, 50, 60, 87, 90]\n",
            "The second smallest number is 8.\n",
            "The second largest number is: 87.\n"
          ]
        }
      ],
      "source": [
        "if __name__ == \"__main__\":\n",
        "  l1 = [10,20,50,30,5,60,87,90,12,8]\n",
        "  l1.sort()\n",
        "  print(l1)\n",
        "  print(\"The second smallest number is {}.\\nThe second largest number is: {}.\".format(l1[1], l1[-2]))"
      ]
    },
    {
      "cell_type": "markdown",
      "metadata": {
        "id": "3_TpGXCffURG"
      },
      "source": [
        "8. Given a list of numbers of list, write a Python program to create a list of tuples having first element as the number and second element as the square of the number."
      ]
    },
    {
      "cell_type": "code",
      "execution_count": null,
      "metadata": {
        "colab": {
          "base_uri": "https://localhost:8080/"
        },
        "id": "9IMwvnicfZ3G",
        "outputId": "dc4870bd-7558-4104-b52e-88588e1760b6"
      },
      "outputs": [
        {
          "name": "stdout",
          "output_type": "stream",
          "text": [
            "The original list is:  [10, 20, 50, 30, 5, 60, 87, 90, 12, 8]\n",
            "The new list is:  [(10, 100), (20, 400), (50, 2500), (30, 900), (5, 25), (60, 3600), (87, 7569), (90, 8100), (12, 144), (8, 64)]\n"
          ]
        }
      ],
      "source": [
        "if __name__ == \"__main__\":\n",
        "  l1 = [10,20,50,30,5,60,87,90,12,8]\n",
        "  l2 = [(x,x*x) for x in l1]\n",
        "  print(\"The original list is: \",l1)\n",
        "  print(\"The new list is: \",l2)"
      ]
    },
    {
      "cell_type": "markdown",
      "metadata": {
        "id": "Oft3L42BgB9o"
      },
      "source": [
        "9. Given list of tuples, remove all the tuples with length K.\n",
        "* Input : test_list = [(4, 5), (4, ), (8, 6, 7), (1, ), (3, 4, 6, 7)], K = 2\n",
        "* Output : [(4, ), (8, 6, 7), (1, ), (3, 4, 6, 7)]\n",
        "* Explanation : (4, 5) of len = 2 is removed.\n"
      ]
    },
    {
      "cell_type": "code",
      "execution_count": null,
      "metadata": {
        "colab": {
          "base_uri": "https://localhost:8080/"
        },
        "id": "AXUQBUMqgIYH",
        "outputId": "4bf80377-504a-4794-be22-edce81d47389"
      },
      "outputs": [
        {
          "name": "stdout",
          "output_type": "stream",
          "text": [
            "Enter the length of the tuple to be removed: 2\n",
            "[(4, 5), (1, 2)]\n"
          ]
        }
      ],
      "source": [
        "if __name__ == \"__main__\":\n",
        "  test_list = [(4, 5), (4, ), (8, 6, 7), (1, 2), (3, 4, 6, 7)]\n",
        "  k = int(input(\"Enter the length of the tuple to be removed: \"))\n",
        "  output_list = [x for x in test_list if len(x)==2]\n",
        "  print(output_list)"
      ]
    },
    {
      "cell_type": "markdown",
      "metadata": {
        "id": "XRtfhJ53hB0g"
      },
      "source": [
        "10. Program to generate and print a dictionary that contains a number (between 1 and n) in the form (x, x*x).\n",
        "Sample Input: (n=5) :\n",
        "Expected Output : {1: 1, 2: 4, 3: 9, 4: 16, 5: 25}\n"
      ]
    },
    {
      "cell_type": "code",
      "execution_count": null,
      "metadata": {
        "colab": {
          "base_uri": "https://localhost:8080/"
        },
        "id": "Rn4wHdnGhJ4K",
        "outputId": "b13b4302-d028-403a-eff6-88f667a2d033"
      },
      "outputs": [
        {
          "name": "stdout",
          "output_type": "stream",
          "text": [
            "Enter the  number: 6\n",
            "The result is:  {0: 0, 1: 1, 2: 4, 3: 9, 4: 16, 5: 25, 6: 36}\n"
          ]
        }
      ],
      "source": [
        "if __name__ == \"__main__\":\n",
        "  d1 =dict()\n",
        "  n = int(input(\"Enter the  number: \"))\n",
        "  for x in range(n+1):\n",
        "    d1[x] = x*x\n",
        "  print(\"The result is: \",d1)"
      ]
    },
    {
      "cell_type": "markdown",
      "metadata": {
        "id": "g6KpX11Xh_QP"
      },
      "source": [
        "11. Program to remove a key from a dictionary"
      ]
    },
    {
      "cell_type": "code",
      "execution_count": null,
      "metadata": {
        "colab": {
          "base_uri": "https://localhost:8080/"
        },
        "id": "LSAAsq39iHrK",
        "outputId": "18b83831-fb73-4229-c54a-d5760851dce0"
      },
      "outputs": [
        {
          "name": "stdout",
          "output_type": "stream",
          "text": [
            "The dictionary items are: \n",
            " {0: 0, 1: 1, 2: 4, 3: 9, 4: 16, 5: 25, 6: 36}\n",
            "Enter the key to be deleted: 4\n",
            "The dictionary items after the delete are: \n",
            " {0: 0, 1: 1, 2: 4, 3: 9, 5: 25, 6: 36}\n"
          ]
        }
      ],
      "source": [
        "if __name__ == \"__main__\":\n",
        "  d1 = {0: 0, 1: 1, 2: 4, 3: 9, 4: 16, 5: 25, 6: 36}\n",
        "  print(\"The dictionary items are: \\n\", d1)\n",
        "  k = int(input(\"Enter the key to be deleted: \"))\n",
        "  d1.pop(k)\n",
        "  print(\"The dictionary items after the delete are: \\n\",d1)"
      ]
    },
    {
      "cell_type": "markdown",
      "metadata": {
        "id": "OKz5n5fkjNkC"
      },
      "source": [
        "12. Program to get the maximum and minimum value in a dictionary.\n"
      ]
    },
    {
      "cell_type": "code",
      "execution_count": null,
      "metadata": {
        "colab": {
          "base_uri": "https://localhost:8080/"
        },
        "id": "T2TzYYMEjRQA",
        "outputId": "312c788c-2d3e-4bcf-cac4-9dbded9040a2"
      },
      "outputs": [
        {
          "name": "stdout",
          "output_type": "stream",
          "text": [
            "The dictionary values are: \n",
            "0\n",
            "1\n",
            "4\n",
            "9\n",
            "16\n",
            "25\n",
            "36\n",
            "The minimum value is:  0\n",
            "The maximum value is:  36\n"
          ]
        }
      ],
      "source": [
        "if __name__ == \"__main__\":\n",
        "  d1 = {0: 0, 1: 1, 2: 4, 3: 9, 4: 16, 5: 25, 6: 36}\n",
        "  min = max = d1[0]\n",
        "\n",
        "  print(\"The dictionary values are: \")\n",
        "  for val in d1.values():\n",
        "    print(val)\n",
        "  for val in d1.values():\n",
        "    if min > val:\n",
        "      min = val\n",
        "  for val in d1.values():\n",
        "    if max< val:\n",
        "      max = val\n",
        "  print(\"The minimum value is: \",min)\n",
        "  print(\"The maximum value is: \",max)\n"
      ]
    },
    {
      "cell_type": "markdown",
      "metadata": {
        "id": "IvtHLcXyk1ig"
      },
      "source": [
        "13. Program to perform operations on string using unicodes,splitting of string,accessing elements of string using locations"
      ]
    },
    {
      "cell_type": "code",
      "execution_count": null,
      "metadata": {
        "id": "AXbeDfLclZWQ",
        "colab": {
          "base_uri": "https://localhost:8080/"
        },
        "outputId": "1a91af12-c6ec-4bd3-d96c-c0ebe9417852"
      },
      "outputs": [
        {
          "output_type": "stream",
          "name": "stdout",
          "text": [
            "Original Unicode String:\n",
            "Café, Bücher, Straße, 東京\n",
            "\n",
            "Split Strings:\n",
            "Café\n",
            "Bücher\n",
            "Straße\n",
            "東京\n",
            "\n",
            "Accessing Elements:\n",
            "The first character (C): C\n",
            "The sixth character (é): ,\n",
            "\n",
            "Iterating over each character:\n",
            "C\n",
            "a\n",
            "f\n",
            "é\n",
            ",\n",
            " \n",
            "B\n",
            "ü\n",
            "c\n",
            "h\n",
            "e\n",
            "r\n",
            ",\n",
            " \n",
            "S\n",
            "t\n",
            "r\n",
            "a\n",
            "ß\n",
            "e\n",
            ",\n",
            " \n",
            "東\n",
            "京\n"
          ]
        }
      ],
      "source": [
        "# Example Unicode String\n",
        "unicode_string = \"Café, Bücher, Straße, 東京\"\n",
        "\n",
        "# Splitting the string on comma and space\n",
        "split_strings = unicode_string.split(\", \")\n",
        "\n",
        "print(\"Original Unicode String:\")\n",
        "print(unicode_string)\n",
        "\n",
        "print(\"\\nSplit Strings:\")\n",
        "for s in split_strings:\n",
        "    print(s)\n",
        "\n",
        "# Accessing elements in the string\n",
        "print(\"\\nAccessing Elements:\")\n",
        "print(\"The first character (C):\", unicode_string[0])\n",
        "print(\"The sixth character (é):\", unicode_string[4])\n",
        "\n",
        "# If you want to iterate over each character\n",
        "print(\"\\nIterating over each character:\")\n",
        "for char in unicode_string:\n",
        "    print(char)\n"
      ]
    },
    {
      "cell_type": "code",
      "source": [
        "c=input(\"Enter an Character\")\n",
        "x=ord(c)\n",
        "x=x-32\n",
        "print(\"Upper Case equivalent of \",c,\" is \",chr(x))"
      ],
      "metadata": {
        "colab": {
          "base_uri": "https://localhost:8080/"
        },
        "id": "XMCMFCdTlSUu",
        "outputId": "fa91fc6a-d12f-4657-bc2d-ee877238a32a"
      },
      "execution_count": null,
      "outputs": [
        {
          "output_type": "stream",
          "name": "stdout",
          "text": [
            "Enter an Characterc\n",
            "Upper Case equivalent of  c  is  C\n"
          ]
        }
      ]
    },
    {
      "cell_type": "code",
      "source": [
        "icon = u'\\u00fa'\n",
        "print(icon)"
      ],
      "metadata": {
        "colab": {
          "base_uri": "https://localhost:8080/"
        },
        "id": "eXTJK1caiT0O",
        "outputId": "119642e5-0109-46b5-ec81-9aaae28dcb83"
      },
      "execution_count": null,
      "outputs": [
        {
          "output_type": "stream",
          "name": "stdout",
          "text": [
            "ú\n"
          ]
        }
      ]
    },
    {
      "cell_type": "markdown",
      "metadata": {
        "id": "D10p51cnlZv_"
      },
      "source": [
        "14. Program for Counting occurrence of a certain element in a string, getting indexes that have matching elements.For ex -.In Rabbit count how many times b has occurred .\n"
      ]
    },
    {
      "cell_type": "code",
      "execution_count": null,
      "metadata": {
        "colab": {
          "base_uri": "https://localhost:8080/"
        },
        "id": "J5d7i8tblen_",
        "outputId": "fabff7f3-639d-425a-b0d8-34d5b2008a24"
      },
      "outputs": [
        {
          "name": "stdout",
          "output_type": "stream",
          "text": [
            "2\n",
            "2\n"
          ]
        }
      ],
      "source": []
    },
    {
      "cell_type": "markdown",
      "metadata": {
        "id": "9taxFn7wmU_0"
      },
      "source": [
        " 15. Program for replacing one substring by another For example - Rabbit - Replace ‘bb’ by\n",
        "‘cc’"
      ]
    },
    {
      "cell_type": "code",
      "execution_count": null,
      "metadata": {
        "colab": {
          "base_uri": "https://localhost:8080/"
        },
        "id": "S2iGL4TMlvvP",
        "outputId": "fced9330-fef8-44e2-82bd-83a6d6a34175"
      },
      "outputs": [
        {
          "name": "stdout",
          "output_type": "stream",
          "text": [
            "Enter the string: Counting occurrence of a certain element in a string\n",
            "Enter the substring to replacement: cc\n",
            "Enter the substring for replacement: ss\n",
            "The resultant string after replacement Counting ossurrence of a certain element in a string\n"
          ]
        }
      ],
      "source": [
        "string = input(\"Enter the string: \")\n",
        "sub = input(\"Enter the substring to replacement: \")\n",
        "resub = input(\"Enter the substring for replacement: \")\n",
        "print(\"The resultant string after replacement\",string.replace(sub, resub))"
      ]
    },
    {
      "cell_type": "markdown",
      "metadata": {
        "id": "lkID27XFojYV"
      },
      "source": [
        "16. Program to Acronym generator for any user input (ex-input is Random memory access then output should be RMA).Example - Random number (RN)"
      ]
    },
    {
      "cell_type": "code",
      "execution_count": null,
      "metadata": {
        "colab": {
          "base_uri": "https://localhost:8080/"
        },
        "id": "uVo2-p4donbO",
        "outputId": "5a02d482-0705-4313-edd8-30b4b4ebfebc"
      },
      "outputs": [
        {
          "name": "stdout",
          "output_type": "stream",
          "text": [
            "Enter the string: sudarshana kerenalli shekhar\n",
            "The acronym of sudarshana kerenalli shekhar is SKS.\n"
          ]
        }
      ],
      "source": [
        "s = input(\"Enter the string: \")\n",
        "l = s.split(\" \")\n",
        "ac = \"\"\n",
        "for st in l:\n",
        "  ac= ac + st[0]\n",
        "print(\"The acronym of {} is {}.\".format(s, ac.upper()))\n",
        "#print(ac.upper())"
      ]
    },
    {
      "cell_type": "markdown",
      "metadata": {
        "id": "73YznVvQrGWA"
      },
      "source": [
        "17. Python function that accepts a string and calculates the number of uppercase letters and lowercase letters."
      ]
    },
    {
      "cell_type": "code",
      "execution_count": null,
      "metadata": {
        "colab": {
          "background_save": true,
          "base_uri": "https://localhost:8080/"
        },
        "id": "Am_j-FFKrNSD",
        "outputId": "f213490f-6a08-4cd2-c759-f662ba55908c"
      },
      "outputs": [
        {
          "name": "stdout",
          "output_type": "stream",
          "text": [
            "The number of capital letters:  3\n",
            "The number of lower cap letters:  26\n"
          ]
        }
      ],
      "source": [
        "\n",
        "def calculate(s):\n",
        "  lcount = ucount = 0\n",
        "  for i in s:\n",
        "    if i.isupper():\n",
        "      ucount = ucount + 1\n",
        "    elif i.lower():\n",
        "      lcount = lcount + 1\n",
        "    else:\n",
        "      continue\n",
        "\n",
        "  print(\"The number of capital letters: \", ucount)\n",
        "  print(\"The number of lower cap letters: \", lcount)\n",
        "\n",
        "if __name__ == \"__main__\":\n",
        "  s = input(\"Enter the string: \")\n",
        "  calculate(s)"
      ]
    }
  ],
  "metadata": {
    "colab": {
      "provenance": [],
      "include_colab_link": true
    },
    "kernelspec": {
      "display_name": "Python 3",
      "name": "python3"
    },
    "language_info": {
      "name": "python"
    }
  },
  "nbformat": 4,
  "nbformat_minor": 0
}