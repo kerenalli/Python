{
  "nbformat": 4,
  "nbformat_minor": 0,
  "metadata": {
    "colab": {
      "provenance": [],
      "authorship_tag": "ABX9TyPC3lpIRa40KWd0Xv+/CvB1",
      "include_colab_link": true
    },
    "kernelspec": {
      "name": "python3",
      "display_name": "Python 3"
    },
    "language_info": {
      "name": "python"
    }
  },
  "cells": [
    {
      "cell_type": "markdown",
      "metadata": {
        "id": "view-in-github",
        "colab_type": "text"
      },
      "source": [
        "<a href=\"https://colab.research.google.com/github/kerenalli/Python/blob/main/Module_2_Strings.ipynb\" target=\"_parent\"><img src=\"https://colab.research.google.com/assets/colab-badge.svg\" alt=\"Open In Colab\"/></a>"
      ]
    },
    {
      "cell_type": "markdown",
      "source": [
        "# **2.2.5 Strings**\n",
        "* In python strings are the list of characters included in '' or \"\".\n",
        "* They can be of one line or multiple lines. (Use '''string''' or \"\"\" string \"\"\")\n",
        "* Strings are the lists. We can apply all the operations similar to the lists."
      ],
      "metadata": {
        "id": "NMMew0951WOP"
      }
    },
    {
      "cell_type": "code",
      "execution_count": 26,
      "metadata": {
        "colab": {
          "base_uri": "https://localhost:8080/"
        },
        "id": "zRdi4Y3v1Osu",
        "outputId": "31a51931-da08-492e-ad04-cd89c4c33969"
      },
      "outputs": [
        {
          "output_type": "stream",
          "name": "stdout",
          "text": [
            "Hello Good Morning!\n"
          ]
        }
      ],
      "source": [
        "s = 'Hello Good Morning!'\n",
        "print(s)"
      ]
    },
    {
      "cell_type": "code",
      "source": [
        "print(\"The string length is: \",len(s))"
      ],
      "metadata": {
        "colab": {
          "base_uri": "https://localhost:8080/"
        },
        "id": "VzuYt5Dj7BJp",
        "outputId": "c170e938-1939-440f-bbf6-969ae24e0c66"
      },
      "execution_count": 27,
      "outputs": [
        {
          "output_type": "stream",
          "name": "stdout",
          "text": [
            "The string length is:  19\n"
          ]
        }
      ]
    },
    {
      "cell_type": "code",
      "source": [
        "#Multi line strings:\n",
        "s2 = \"\"\"\\n\n",
        "Hello\\n\n",
        "Good\\n\n",
        "Morning\\n\n",
        "Students\n",
        "\"\"\""
      ],
      "metadata": {
        "id": "W-9ZRHyt7JC2"
      },
      "execution_count": 31,
      "outputs": []
    },
    {
      "cell_type": "code",
      "source": [
        "print(s2)\n",
        "print(len(s2))"
      ],
      "metadata": {
        "colab": {
          "base_uri": "https://localhost:8080/"
        },
        "id": "jscU7kW87bBJ",
        "outputId": "dfb9a9b2-ba8a-4f7c-85f0-ccbd7aba0b4d"
      },
      "execution_count": 32,
      "outputs": [
        {
          "output_type": "stream",
          "name": "stdout",
          "text": [
            "\n",
            "\n",
            "Hello\n",
            "\n",
            "Good\n",
            "\n",
            "Morning\n",
            "\n",
            "Students\n",
            "\n",
            "33\n"
          ]
        }
      ]
    },
    {
      "cell_type": "code",
      "source": [
        "s = s + \"Q\"\n",
        "print(s)"
      ],
      "metadata": {
        "colab": {
          "base_uri": "https://localhost:8080/"
        },
        "id": "9Yn2kg-48L5_",
        "outputId": "1793ad31-3c38-481c-dc24-ec4fb784cbe3"
      },
      "execution_count": 35,
      "outputs": [
        {
          "output_type": "stream",
          "name": "stdout",
          "text": [
            "Hello Good Morning!Q\n"
          ]
        }
      ]
    },
    {
      "cell_type": "code",
      "source": [
        "\n",
        "for i in s:\n",
        "  print(i)"
      ],
      "metadata": {
        "colab": {
          "base_uri": "https://localhost:8080/"
        },
        "id": "8wKPmHYg7abe",
        "outputId": "ca41140a-c006-4aaf-c9df-217b4fc5398f"
      },
      "execution_count": 36,
      "outputs": [
        {
          "output_type": "stream",
          "name": "stdout",
          "text": [
            "H\n",
            "e\n",
            "l\n",
            "l\n",
            "o\n",
            " \n",
            "G\n",
            "o\n",
            "o\n",
            "d\n",
            " \n",
            "M\n",
            "o\n",
            "r\n",
            "n\n",
            "i\n",
            "n\n",
            "g\n",
            "!\n",
            "Q\n"
          ]
        }
      ]
    },
    {
      "cell_type": "code",
      "source": [
        "print(\"Print the fifth character to last: \",s[4:])"
      ],
      "metadata": {
        "colab": {
          "base_uri": "https://localhost:8080/"
        },
        "id": "t08wuC-98rfW",
        "outputId": "ef2c6706-8b5e-4271-fb3b-8738c8c32446"
      },
      "execution_count": 38,
      "outputs": [
        {
          "output_type": "stream",
          "name": "stdout",
          "text": [
            "Print the fifth character to last:  o Good Morning!Q\n"
          ]
        }
      ]
    },
    {
      "cell_type": "code",
      "source": [
        "print(\"Print the string except last 5\", s[:-5])"
      ],
      "metadata": {
        "colab": {
          "base_uri": "https://localhost:8080/"
        },
        "id": "k16uwxgL9OAH",
        "outputId": "0f5000cd-4e0e-451b-822d-d3168ef7252c"
      },
      "execution_count": 39,
      "outputs": [
        {
          "output_type": "stream",
          "name": "stdout",
          "text": [
            "Print the string except last 5 Hello Good Morn\n"
          ]
        }
      ]
    },
    {
      "cell_type": "code",
      "source": [
        "print(\"String into upper case: \",s.upper())"
      ],
      "metadata": {
        "colab": {
          "base_uri": "https://localhost:8080/"
        },
        "id": "mHeQPqrv9avA",
        "outputId": "45ae1217-a2b0-4fc4-bdd0-35dc76a6678e"
      },
      "execution_count": 40,
      "outputs": [
        {
          "output_type": "stream",
          "name": "stdout",
          "text": [
            "String into upper case:  HELLO GOOD MORNING!Q\n"
          ]
        }
      ]
    },
    {
      "cell_type": "code",
      "source": [
        "print(\"String into lower case: \",s.lower())"
      ],
      "metadata": {
        "colab": {
          "base_uri": "https://localhost:8080/"
        },
        "id": "XVLQ4FTy9ncZ",
        "outputId": "d2a886b3-cafb-4042-97c0-f9a770100f7a"
      },
      "execution_count": 41,
      "outputs": [
        {
          "output_type": "stream",
          "name": "stdout",
          "text": [
            "String into lower case:  hello good morning!q\n"
          ]
        }
      ]
    },
    {
      "cell_type": "code",
      "source": [
        "#String splitting\n",
        "l = s.split(\"!\")\n",
        "print(l)"
      ],
      "metadata": {
        "colab": {
          "base_uri": "https://localhost:8080/"
        },
        "id": "EBa6XJlS9td7",
        "outputId": "ced59b7b-1704-487f-af40-b0ed67c46e85"
      },
      "execution_count": 45,
      "outputs": [
        {
          "output_type": "stream",
          "name": "stdout",
          "text": [
            "['Hello Good Morning', 'Q']\n"
          ]
        }
      ]
    },
    {
      "cell_type": "code",
      "source": [
        "s3 = \"       Now       \"\n",
        "print(len(s3))"
      ],
      "metadata": {
        "colab": {
          "base_uri": "https://localhost:8080/"
        },
        "id": "jPQ6fdfy-Nnw",
        "outputId": "35c3fc41-0669-403d-debd-8d2e74d38001"
      },
      "execution_count": 43,
      "outputs": [
        {
          "output_type": "stream",
          "name": "stdout",
          "text": [
            "17\n"
          ]
        }
      ]
    },
    {
      "cell_type": "code",
      "source": [
        "s4 = s3.strip()\n",
        "print(len(s4))"
      ],
      "metadata": {
        "colab": {
          "base_uri": "https://localhost:8080/"
        },
        "id": "v1ypcyLV-YPw",
        "outputId": "0ee6ce00-408a-48d7-b053-5449f1daca9b"
      },
      "execution_count": 44,
      "outputs": [
        {
          "output_type": "stream",
          "name": "stdout",
          "text": [
            "3\n"
          ]
        }
      ]
    },
    {
      "cell_type": "code",
      "source": [
        "#Replace the characters in a string\n",
        "s5 = s.replace(\"o\",\"u\")\n",
        "print(s5)"
      ],
      "metadata": {
        "colab": {
          "base_uri": "https://localhost:8080/"
        },
        "id": "zZSzmgFW-xcS",
        "outputId": "46c4f633-a5dd-4625-e3b6-7e7519362b9d"
      },
      "execution_count": 47,
      "outputs": [
        {
          "output_type": "stream",
          "name": "stdout",
          "text": [
            "Hellu Guud Murning!Q\n"
          ]
        }
      ]
    },
    {
      "cell_type": "code",
      "source": [
        "print(s.ljust(100))\n",
        "print(s.center(100))\n",
        "print(s.rjust(100))"
      ],
      "metadata": {
        "colab": {
          "base_uri": "https://localhost:8080/"
        },
        "id": "xRuoNYs7_ILZ",
        "outputId": "e6ba6d77-1a46-4d91-d8b9-44a5fe1772ef"
      },
      "execution_count": 49,
      "outputs": [
        {
          "output_type": "stream",
          "name": "stdout",
          "text": [
            "Hello Good Morning!Q                                                                                \n",
            "                                        Hello Good Morning!Q                                        \n",
            "                                                                                Hello Good Morning!Q\n"
          ]
        }
      ]
    },
    {
      "cell_type": "code",
      "source": [
        "#check the word or character in the string\n",
        "if \"go\" in s:\n",
        "  print(\"The word go is present in string s\")\n",
        "else:\n",
        "  print(\"The word go is not present in string s\")"
      ],
      "metadata": {
        "colab": {
          "base_uri": "https://localhost:8080/"
        },
        "id": "YAIXAwNJ2kNX",
        "outputId": "8f033dd6-921b-4dca-85e1-23f6a243c915"
      },
      "execution_count": 3,
      "outputs": [
        {
          "output_type": "stream",
          "name": "stdout",
          "text": [
            "The word go is not present in string s\n"
          ]
        }
      ]
    },
    {
      "cell_type": "markdown",
      "source": [
        "* Access any specific character using the index."
      ],
      "metadata": {
        "id": "DWx5PTty3ACQ"
      }
    },
    {
      "cell_type": "code",
      "source": [
        "print(\"The last character is : \",s[-1])"
      ],
      "metadata": {
        "colab": {
          "base_uri": "https://localhost:8080/"
        },
        "id": "ANYI4mvz3GoH",
        "outputId": "631062f3-8d4c-4df2-9526-9e437962da6e"
      },
      "execution_count": 5,
      "outputs": [
        {
          "output_type": "stream",
          "name": "stdout",
          "text": [
            "The last character is :  !\n"
          ]
        }
      ]
    },
    {
      "cell_type": "code",
      "source": [
        "print(\"The string length is: \",len(s))"
      ],
      "metadata": {
        "colab": {
          "base_uri": "https://localhost:8080/"
        },
        "id": "O2RPt8sN3Rnv",
        "outputId": "cb484dd3-c2c7-48b9-f844-d5c8a81a25ff"
      },
      "execution_count": 6,
      "outputs": [
        {
          "output_type": "stream",
          "name": "stdout",
          "text": [
            "The string length is:  19\n"
          ]
        }
      ]
    },
    {
      "cell_type": "markdown",
      "source": [
        "**String slicing**"
      ],
      "metadata": {
        "id": "OOGbEWrq3ep3"
      }
    },
    {
      "cell_type": "code",
      "source": [
        "print(\"The sliced string: \", s[3:-7])"
      ],
      "metadata": {
        "colab": {
          "base_uri": "https://localhost:8080/"
        },
        "id": "7YdvN17I3k4-",
        "outputId": "75cd4b6f-2719-4bf5-85cc-f99c0e971667"
      },
      "execution_count": 7,
      "outputs": [
        {
          "output_type": "stream",
          "name": "stdout",
          "text": [
            "The sliced string:  lo Good M\n"
          ]
        }
      ]
    },
    {
      "cell_type": "markdown",
      "source": [
        "**String operations**"
      ],
      "metadata": {
        "id": "-cf16Hp932xG"
      }
    },
    {
      "cell_type": "code",
      "source": [
        "print(s.upper())"
      ],
      "metadata": {
        "colab": {
          "base_uri": "https://localhost:8080/"
        },
        "id": "WiNDF-Wa36qo",
        "outputId": "02597fb6-4b46-4861-f980-de88052f5147"
      },
      "execution_count": 8,
      "outputs": [
        {
          "output_type": "stream",
          "name": "stdout",
          "text": [
            "HELLO GOOD MORNING!\n"
          ]
        }
      ]
    },
    {
      "cell_type": "code",
      "source": [
        "print(s.lower())"
      ],
      "metadata": {
        "colab": {
          "base_uri": "https://localhost:8080/"
        },
        "id": "WiOkMf1H4DZo",
        "outputId": "bca480cf-40f2-4f55-eb6b-f26e3f3991f2"
      },
      "execution_count": 9,
      "outputs": [
        {
          "output_type": "stream",
          "name": "stdout",
          "text": [
            "hello good morning!\n"
          ]
        }
      ]
    },
    {
      "cell_type": "code",
      "source": [
        "strs = s.strip(\",\")\n",
        "print(strs)\n"
      ],
      "metadata": {
        "colab": {
          "base_uri": "https://localhost:8080/"
        },
        "id": "2xFlrTSr4Ine",
        "outputId": "3497ca7c-bd3a-44b4-e9a1-acbb80eca3e7"
      },
      "execution_count": 15,
      "outputs": [
        {
          "output_type": "stream",
          "name": "stdout",
          "text": [
            " Hello Good Morning! \n"
          ]
        }
      ]
    },
    {
      "cell_type": "code",
      "source": [
        "#replace\n",
        "s2 = s.replace(\"g\",\"GG\")\n",
        "print(s2)"
      ],
      "metadata": {
        "colab": {
          "base_uri": "https://localhost:8080/"
        },
        "id": "InFeOc0Y4o55",
        "outputId": "8569a910-c176-45ff-bdca-d9709562f6fb"
      },
      "execution_count": 16,
      "outputs": [
        {
          "output_type": "stream",
          "name": "stdout",
          "text": [
            " Hello Good MorninGG! \n"
          ]
        }
      ]
    },
    {
      "cell_type": "code",
      "source": [
        "#Splitting the string\n",
        "print(\"The splitted string is: \", s.split(\" \"))"
      ],
      "metadata": {
        "colab": {
          "base_uri": "https://localhost:8080/"
        },
        "id": "0KArup7f45PX",
        "outputId": "48bad434-143f-4a7a-c58c-935f628c71b9"
      },
      "execution_count": 17,
      "outputs": [
        {
          "output_type": "stream",
          "name": "stdout",
          "text": [
            "The splitted string is:  ['', 'Hello', 'Good', 'Morning!', '']\n"
          ]
        }
      ]
    },
    {
      "cell_type": "code",
      "source": [
        "#Justification\n",
        "print(s.ljust(80))\n",
        "print(s.center(80))\n",
        "print(s.rjust(80))"
      ],
      "metadata": {
        "colab": {
          "base_uri": "https://localhost:8080/"
        },
        "id": "Epqxhek95FKm",
        "outputId": "404a21db-5434-45e3-c8d6-c11f9d2bff0a"
      },
      "execution_count": 24,
      "outputs": [
        {
          "output_type": "stream",
          "name": "stdout",
          "text": [
            " Hello Good Morning!                                                            \n",
            "                              Hello Good Morning!                               \n",
            "                                                            Hello Good Morning! \n"
          ]
        }
      ]
    },
    {
      "cell_type": "code",
      "source": [
        "s3 = \"\"\"Hello Good Morning!\n",
        " Hello Good Morning!\n",
        "                                                            Hello Good Morning! \"\"\"\n"
      ],
      "metadata": {
        "id": "s-xA7SIS59qK"
      },
      "execution_count": null,
      "outputs": []
    }
  ]
}