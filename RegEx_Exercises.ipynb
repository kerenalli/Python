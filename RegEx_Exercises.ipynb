{
  "nbformat": 4,
  "nbformat_minor": 0,
  "metadata": {
    "colab": {
      "provenance": [],
      "authorship_tag": "ABX9TyO3YAp2JLH4wmcinGGIpkbL",
      "include_colab_link": true
    },
    "kernelspec": {
      "name": "python3",
      "display_name": "Python 3"
    },
    "language_info": {
      "name": "python"
    }
  },
  "cells": [
    {
      "cell_type": "markdown",
      "metadata": {
        "id": "view-in-github",
        "colab_type": "text"
      },
      "source": [
        "<a href=\"https://colab.research.google.com/github/kerenalli/Python/blob/main/RegEx_Exercises.ipynb\" target=\"_parent\"><img src=\"https://colab.research.google.com/assets/colab-badge.svg\" alt=\"Open In Colab\"/></a>"
      ]
    },
    {
      "cell_type": "markdown",
      "source": [
        "# 1. Write a Python program to check that a string contains only a certain set of characters (in this case a-z, A-Z and 0-9)."
      ],
      "metadata": {
        "id": "2lrQywWdjs3p"
      }
    },
    {
      "cell_type": "code",
      "execution_count": null,
      "metadata": {
        "colab": {
          "base_uri": "https://localhost:8080/"
        },
        "id": "A0W_qgBMjlAu",
        "outputId": "05d09b1d-901f-4c82-c22e-2ed53c3784f7"
      },
      "outputs": [
        {
          "output_type": "stream",
          "name": "stdout",
          "text": [
            "The Sudarshana is valid!\n",
            "The Sudarshana1 is valid!\n",
            "The Sudarshana  is not valid!!\n",
            "The 2Sudarshana is valid!\n",
            "The     is not valid!!\n"
          ]
        }
      ],
      "source": [
        "import re\n",
        "def match_pattern(s):\n",
        "  pat = r'^[a-zA-Z0-9]+$'\n",
        "  res = re.search(pat, s)\n",
        "  return res\n",
        "\n",
        "if __name__ == '__main__':\n",
        "  strings = [\"Sudarshana\",\"Sudarshana1\",\"Sudarshana \",\"2Sudarshana\", \"   \"]\n",
        "  for string in strings:\n",
        "    r = match_pattern(string)\n",
        "    if r:\n",
        "      print(f'The {string} is valid!')\n",
        "    else:\n",
        "      print(f\"The {string} is not valid!!\")"
      ]
    },
    {
      "cell_type": "markdown",
      "source": [
        "# 2. Write a Python program that matches a string that has an a followed by zero or more b's"
      ],
      "metadata": {
        "id": "dGXLyZ9KwF_j"
      }
    },
    {
      "cell_type": "code",
      "source": [
        "import re\n",
        "def match_pattern(s):\n",
        "  pat = r'ab*'\n",
        "  res = re.search(pat, s)\n",
        "  return res\n",
        "\n",
        "if __name__ == '__main__':\n",
        "  l1 = ['a','ab', 'aab', 'b','aaaabbba']\n",
        "  for str1 in l1:\n",
        "    res = match_pattern(str1)\n",
        "    if res:\n",
        "      print(f\"The {str1} is acceptable string.\")\n",
        "    else:\n",
        "      print(f\"The {str1} is not acceptable string.\")\n"
      ],
      "metadata": {
        "colab": {
          "base_uri": "https://localhost:8080/"
        },
        "id": "zwH8ZiMFwQa0",
        "outputId": "19489b2d-9667-4890-ce91-6cdc09501ea8"
      },
      "execution_count": null,
      "outputs": [
        {
          "output_type": "stream",
          "name": "stdout",
          "text": [
            "The a is acceptable string.\n",
            "The ab is acceptable string.\n",
            "The aab is acceptable string.\n",
            "The b is not acceptable string.\n",
            "The aaaabbba is acceptable string.\n"
          ]
        }
      ]
    },
    {
      "cell_type": "markdown",
      "source": [
        "# 3. Write a Python program that matches a string that has an a followed by one or more b's"
      ],
      "metadata": {
        "id": "S_GVQrK21SWz"
      }
    },
    {
      "cell_type": "code",
      "source": [
        "import re\n",
        "def match_pattern(s):\n",
        "  pat = r'ab+'\n",
        "  res = re.search(pat, s)\n",
        "  return res\n",
        "if __name__ == '__main__':\n",
        "  l1 = ['a','ab', 'aab', 'abbb','aaaabbba','bbb']\n",
        "  for str1 in l1:\n",
        "    res = match_pattern(str1)\n",
        "    if res:\n",
        "      print(f\"The {str1} is acceptable string.\")\n",
        "    else:\n",
        "      print(f\"The {str1} is not acceptable string.\")\n"
      ],
      "metadata": {
        "colab": {
          "base_uri": "https://localhost:8080/"
        },
        "id": "iv8NSnaf1VoD",
        "outputId": "4cdc0f7f-2b91-48e4-beb9-c395b1b3c660"
      },
      "execution_count": null,
      "outputs": [
        {
          "output_type": "stream",
          "name": "stdout",
          "text": [
            "The a is not acceptable string.\n",
            "The ab is acceptable string.\n",
            "The aab is not acceptable string.\n",
            "The abbb is acceptable string.\n",
            "The aaaabbba is not acceptable string.\n",
            "The bbb is not acceptable string.\n"
          ]
        }
      ]
    },
    {
      "cell_type": "markdown",
      "source": [
        "# 4. Write a Python program that matches a string that has an a followed by zero or one 'b'."
      ],
      "metadata": {
        "id": "I8h7b45x2P8j"
      }
    },
    {
      "cell_type": "code",
      "source": [
        "import re\n",
        "def match_pattern(s):\n",
        "  pat = r'ab?$'\n",
        "  res = re.search(pat, s)\n",
        "  return res is not None\n",
        "if __name__ == '__main__':\n",
        "  l1 = ['a','ab','abb','ba','b','bab','bbbb']\n",
        "  for str1 in l1:\n",
        "    res = match_pattern(str1)\n",
        "    if res:\n",
        "      print(f'The string {str1} is acceptable string.')\n",
        "    else:\n",
        "      print(f'The string {str1} is not acceptable string.')"
      ],
      "metadata": {
        "colab": {
          "base_uri": "https://localhost:8080/"
        },
        "id": "QM_xSnPW2SkE",
        "outputId": "46822c84-24e8-457c-d24f-dcac0fc98095"
      },
      "execution_count": null,
      "outputs": [
        {
          "output_type": "stream",
          "name": "stdout",
          "text": [
            "The string a is acceptable string.\n",
            "The string ab is acceptable string.\n",
            "The string abb is not acceptable string.\n",
            "The string ba is acceptable string.\n",
            "The string b is not acceptable string.\n",
            "The string bab is acceptable string.\n",
            "The string bbbb is not acceptable string.\n"
          ]
        }
      ]
    },
    {
      "cell_type": "markdown",
      "source": [
        "# 5. Write a Python program that matches a string that has an a followed by three 'b'"
      ],
      "metadata": {
        "id": "3hMxVmBw4FFT"
      }
    },
    {
      "cell_type": "code",
      "source": [
        "import re\n",
        "def match_pattern(s):\n",
        "  pat = r'ab{3}'\n",
        "  res = re.search(pat, s)\n",
        "  return res is not None\n",
        "if __name__ == '__main__':\n",
        "  l1 = ['a','ab','abbb','ba','b','bab','abbbb']\n",
        "  for str1 in l1:\n",
        "    res = match_pattern(str1)\n",
        "    if res:\n",
        "      print(f'The string {str1} is acceptable string.')\n",
        "    else:\n",
        "      print(f'The string {str1} is not acceptable string.')"
      ],
      "metadata": {
        "colab": {
          "base_uri": "https://localhost:8080/"
        },
        "id": "4BjGvY9F4Hgk",
        "outputId": "762fcb46-3e64-473c-cd37-ca8cddeb41cd"
      },
      "execution_count": null,
      "outputs": [
        {
          "output_type": "stream",
          "name": "stdout",
          "text": [
            "The string a is not acceptable string.\n",
            "The string ab is not acceptable string.\n",
            "The string abbb is acceptable string.\n",
            "The string ba is not acceptable string.\n",
            "The string b is not acceptable string.\n",
            "The string bab is not acceptable string.\n",
            "The string abbbb is acceptable string.\n"
          ]
        }
      ]
    },
    {
      "cell_type": "markdown",
      "source": [
        "# 6. Write a Python program to find sequences of lowercase letters joined with an underscore\n"
      ],
      "metadata": {
        "id": "S0NCkAojEPJ3"
      }
    },
    {
      "cell_type": "code",
      "source": [
        "import re\n",
        "\n",
        "def match_pattern(s):\n",
        "    pat = r'^[a-z_]+'\n",
        "    res = re.search(pat, s)\n",
        "    return res\n",
        "\n",
        "if __name__ == '__main__':\n",
        "    l1 = ['Sudarshana', 'sudarshan_', '_sudarshana', 'sudar_shan', 'SUDARSHANA']\n",
        "    for name in l1:\n",
        "        res = match_pattern(name)\n",
        "        if res:\n",
        "            print(f\"The {name} is acceptable.\")\n",
        "        else:\n",
        "            print(f\"The {name} is not acceptable.\")\n"
      ],
      "metadata": {
        "colab": {
          "base_uri": "https://localhost:8080/"
        },
        "id": "7cIPD_jlLmFu",
        "outputId": "d46a869b-eacf-41c9-f413-28399ee5b4c9"
      },
      "execution_count": null,
      "outputs": [
        {
          "output_type": "stream",
          "name": "stdout",
          "text": [
            "The Sudarshana is not acceptable.\n",
            "The sudarshan_ is acceptable.\n",
            "The _sudarshana is acceptable.\n",
            "The sudar_shan is acceptable.\n",
            "The SUDARSHANA is not acceptable.\n"
          ]
        }
      ]
    },
    {
      "cell_type": "code",
      "source": [
        "import re\n",
        "\n",
        "def match_pattern(s):\n",
        "    pat = r'[a-z]+_'\n",
        "    res = re.search(pat, s)\n",
        "    return res is not None\n",
        "\n",
        "if __name__ == '__main__':\n",
        "    l1 = ['sudarshana', 'sudarshan_', '_sudarshana', 'sudar_shan', 'SUDARSHANA']\n",
        "    for name in l1:\n",
        "        if match_pattern(name):\n",
        "            print(f'The string \"{name}\" is acceptable.')\n",
        "        else:\n",
        "            print(f'The string \"{name}\" is not acceptable.')\n"
      ],
      "metadata": {
        "colab": {
          "base_uri": "https://localhost:8080/"
        },
        "id": "4Na1V5eWXkoF",
        "outputId": "68025e5e-d6e8-4403-8a95-f4090edfe71a"
      },
      "execution_count": null,
      "outputs": [
        {
          "output_type": "stream",
          "name": "stdout",
          "text": [
            "The string \"sudarshana\" is not acceptable.\n",
            "The string \"sudarshan_\" is acceptable.\n",
            "The string \"_sudarshana\" is not acceptable.\n",
            "The string \"sudar_shan\" is acceptable.\n",
            "The string \"SUDARSHANA\" is not acceptable.\n"
          ]
        }
      ]
    },
    {
      "cell_type": "code",
      "source": [
        "import re\n",
        "def match_pattern(s):\n",
        "  pat = r'(^[aeiou])*([aeiou]$)'\n",
        "  res = re.search(pat, s)\n",
        "  return res is not None\n",
        "\n",
        "if __name__ == '__main__':\n",
        "  strings = [\"udarshana\",\"Sudarshana1\",\"shaan\",\"2Sudarshana\", \"   \"]\n",
        "  for string in strings:\n",
        "    r = match_pattern(string)\n",
        "    if r:\n",
        "      print(f'The {string} is valid!')\n",
        "    else:\n",
        "      print(f\"The {string} is not valid!!\")"
      ],
      "metadata": {
        "colab": {
          "base_uri": "https://localhost:8080/"
        },
        "id": "cR88-ePqr_xn",
        "outputId": "52ccae67-0b71-4822-c490-ee68a5dd2a2a"
      },
      "execution_count": null,
      "outputs": [
        {
          "output_type": "stream",
          "name": "stdout",
          "text": [
            "The udarshana is valid!\n",
            "The Sudarshana1 is not valid!!\n",
            "The shaan is not valid!!\n",
            "The 2Sudarshana is valid!\n",
            "The     is not valid!!\n"
          ]
        }
      ]
    },
    {
      "cell_type": "code",
      "source": [
        "import re\n",
        "\n",
        "s = ['www.google.com', 'www.yahoo.co.in', 'www.gitam.edu']\n",
        "pat = r'(^www)\\.(\\w+)\\.com$'  # Grouping operator\n",
        "\n",
        "for obj in s:\n",
        "    res = re.search(pat, obj)  # Search within the individual string 'obj'\n",
        "    if res:\n",
        "        print(f'The {obj} is valid')\n",
        "    else:\n",
        "        print(f'The {obj} is not valid')\n"
      ],
      "metadata": {
        "colab": {
          "base_uri": "https://localhost:8080/"
        },
        "id": "pHv0EuBBum_5",
        "outputId": "8f891357-21a2-4416-b592-35c32e141b5c"
      },
      "execution_count": null,
      "outputs": [
        {
          "output_type": "stream",
          "name": "stdout",
          "text": [
            "The www.google.com is valid\n",
            "The www.yahoo.co.in is not valid\n",
            "The www.gitam.edu is not valid\n"
          ]
        }
      ]
    },
    {
      "cell_type": "markdown",
      "source": [
        "# Pattern to identify the phone numbers"
      ],
      "metadata": {
        "id": "eUdlUC4W3KaO"
      }
    },
    {
      "cell_type": "code",
      "source": [
        "import re\n",
        "\n",
        "s = ['998-622-3053', '08395-2625245','+91-998-622-3053' ]\n",
        "pat = r'(^\\+\\d\\d)\\-(\\d{3})\\-(\\d{3})\\-(\\d{4})$'  # Grouping operator\n",
        "\n",
        "for obj in s:\n",
        "    res = re.search(pat, obj)\n",
        "    if res:\n",
        "        print(f'The {obj} is valid phone number')\n",
        "        print(\"The country code:\", res.group(1))\n",
        "        print(\"The operator name:\", res.group(2))  # Print the first group\n",
        "        print(\"The circle name:\", res.group(3))  # Print the second group\n",
        "        print(\"The subscriber name:\", res.group(4))\n",
        "    else:\n",
        "        print(f'The {obj} is not valid webserver')\n"
      ],
      "metadata": {
        "colab": {
          "base_uri": "https://localhost:8080/"
        },
        "id": "CywNP9Kfy83L",
        "outputId": "97baa81c-2c7f-48cb-9a16-518fcf3b569b"
      },
      "execution_count": null,
      "outputs": [
        {
          "output_type": "stream",
          "name": "stdout",
          "text": [
            "The 998-622-3053 is not valid webserver\n",
            "The 08395-2625245 is not valid webserver\n",
            "The +91-998-622-3053 is valid phone number\n",
            "The country code: +91\n",
            "The operator name: 998\n",
            "The circle name: 622\n",
            "The subscriber name: 3053\n"
          ]
        }
      ]
    },
    {
      "cell_type": "code",
      "source": [
        "#Program to identify the email ids\n",
        "import re\n",
        "\n",
        "s = ['skerenal@outlook.com', 'kerenalli@','kerenalli@gmail.com' ]\n",
        "pat = r'^(\\w+)\\@(\\w+)\\.(\\w+)$'  # Grouping operator\n",
        "\n",
        "for obj in s:\n",
        "    res = re.search(pat, obj)\n",
        "    if res:\n",
        "        print(f'The {obj} is valid email id')\n",
        "        print(\"The user id:\", res.group(1))\n",
        "        print(\"The host name:\", res.group(2))  # Print the first group\n",
        "        print(\"The domain name:\", res.group(3))  # Print the second group\n",
        "        #print(\"The subscriber name:\", res.group(4))\n",
        "    else:\n",
        "        print(f'The {obj} is not valid email id')\n"
      ],
      "metadata": {
        "colab": {
          "base_uri": "https://localhost:8080/"
        },
        "id": "O1id6wDEvPNg",
        "outputId": "074e2963-0d4b-47ce-a391-501cd997e533"
      },
      "execution_count": null,
      "outputs": [
        {
          "output_type": "stream",
          "name": "stdout",
          "text": [
            "The skerenal@outlook.com is valid email id\n",
            "The user id: skerenal\n",
            "The host name: outlook\n",
            "The domain name: com\n",
            "The kerenalli@ is not valid email id\n",
            "The kerenalli@gmail.com is valid email id\n",
            "The user id: kerenalli\n",
            "The host name: gmail\n",
            "The domain name: com\n"
          ]
        }
      ]
    },
    {
      "cell_type": "code",
      "source": [],
      "metadata": {
        "id": "_C1F4EtR4SUV"
      },
      "execution_count": null,
      "outputs": []
    },
    {
      "cell_type": "code",
      "source": [
        "import re\n",
        "\n",
        "s = ['skerenal@outlook.com', 'kerenalli@','kerenalli@gmail.com']\n",
        "pat = r'^(\\w+)@(\\w+)\\.(\\w+)$'  # Corrected regular expression pattern\n",
        "\n",
        "for obj in s:\n",
        "    res = re.match(pat, obj)\n",
        "    if res:\n",
        "        print(f'The {obj} is a valid email id')\n",
        "        print(\"The user id:\", res.group(1))\n",
        "        print(\"The host name:\", res.group(2))\n",
        "        print(\"The domain name:\", res.group(3))\n",
        "    else:\n",
        "        print(f'The {obj} is not a valid email id')\n"
      ],
      "metadata": {
        "colab": {
          "base_uri": "https://localhost:8080/"
        },
        "id": "VqQgaUdq4O7v",
        "outputId": "742f38ce-c336-424c-d1b8-498b0c01d2c0"
      },
      "execution_count": null,
      "outputs": [
        {
          "output_type": "stream",
          "name": "stdout",
          "text": [
            "The skerenal@outlook.com is a valid email id\n",
            "The user id: skerenal\n",
            "The host name: outlook\n",
            "The domain name: com\n",
            "The kerenalli@ is not a valid email id\n",
            "The kerenalli@gmail.com is a valid email id\n",
            "The user id: kerenalli\n",
            "The host name: gmail\n",
            "The domain name: com\n"
          ]
        }
      ]
    },
    {
      "cell_type": "code",
      "source": [
        "import re\n",
        "\n",
        "def contains_only_allowed_chars(input_string):\n",
        "    # Define the pattern to match only a-z, A-Z, and 0-9\n",
        "    pattern = r'^[a-zA-Z0-9]+$'\n",
        "\n",
        "    # Use the re.match function to check if the input string matches the pattern\n",
        "    if re.match(pattern, input_string):\n",
        "        return True\n",
        "    else:\n",
        "        return False\n",
        "\n",
        "if __name__ == '__main__':\n",
        "  strings = [\"Sudarshana\",\"Sudarshana1\",\"Sudarshana\",\"2Sudarshana\", \"   \"]\n",
        "  for string in strings:\n",
        "    r = contains_only_allowed_chars(string)\n",
        "    if r:\n",
        "      print(f'The {string} is valid!')\n",
        "    else:\n",
        "      print(f\"The {string} is not valid!!\")"
      ],
      "metadata": {
        "colab": {
          "base_uri": "https://localhost:8080/"
        },
        "id": "Jxoi-fWYjw7A",
        "outputId": "a36f7111-729d-40e2-df46-df473101cdf0"
      },
      "execution_count": null,
      "outputs": [
        {
          "output_type": "stream",
          "name": "stdout",
          "text": [
            "The Sudarshana is valid!\n",
            "The Sudarshana1 is valid!\n",
            "The Sudarshana is valid!\n",
            "The 2Sudarshana is valid!\n",
            "The     is not valid!!\n"
          ]
        }
      ]
    },
    {
      "cell_type": "code",
      "source": [],
      "metadata": {
        "id": "iRrKhJUiwFpU"
      },
      "execution_count": null,
      "outputs": []
    }
  ]
}