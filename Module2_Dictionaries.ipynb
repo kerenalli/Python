{
  "nbformat": 4,
  "nbformat_minor": 0,
  "metadata": {
    "colab": {
      "provenance": [],
      "authorship_tag": "ABX9TyOI1GKCW0S1OyosTGtMMhxk",
      "include_colab_link": true
    },
    "kernelspec": {
      "name": "python3",
      "display_name": "Python 3"
    },
    "language_info": {
      "name": "python"
    }
  },
  "cells": [
    {
      "cell_type": "markdown",
      "metadata": {
        "id": "view-in-github",
        "colab_type": "text"
      },
      "source": [
        "<a href=\"https://colab.research.google.com/github/kerenalli/Python/blob/main/Module2_Dictionaries.ipynb\" target=\"_parent\"><img src=\"https://colab.research.google.com/assets/colab-badge.svg\" alt=\"Open In Colab\"/></a>"
      ]
    },
    {
      "cell_type": "markdown",
      "source": [
        "# **2.2.3 Dictionaries in Python**"
      ],
      "metadata": {
        "id": "yEByQCSqUTn3"
      }
    },
    {
      "cell_type": "markdown",
      "source": [
        "* Dictionaries in python are the list of items that are unordered, non indexed, mutable but not repeatble.\n",
        "* The items in a dictionary consists of (key, value) pairs.\n",
        "* Different operations on dictionary are:\n",
        "  1. Creating a dictionary\n",
        "  2. Adding an item on to the dictionary\n",
        "  3. Accessing the keys, values and items\n",
        "  4. Updating the dictionary\n",
        "  5. Copying a dictionary\n",
        "  6. Deleting an item from the dictionary\n",
        "  7. Clearing a dictionary\n",
        "  8. Nesting the dictionaries\n",
        "  \n"
      ],
      "metadata": {
        "id": "9fR-_sXmZbDe"
      }
    },
    {
      "cell_type": "code",
      "source": [
        "del d1\n",
        "print(d1)"
      ],
      "metadata": {
        "id": "LO6YcYhHw4-Y",
        "outputId": "c2a3dafc-f668-468e-c13f-c6f745590568",
        "colab": {
          "base_uri": "https://localhost:8080/",
          "height": 193
        }
      },
      "execution_count": null,
      "outputs": [
        {
          "output_type": "error",
          "ename": "NameError",
          "evalue": "name 'd1' is not defined",
          "traceback": [
            "\u001b[0;31m---------------------------------------------------------------------------\u001b[0m",
            "\u001b[0;31mNameError\u001b[0m                                 Traceback (most recent call last)",
            "\u001b[0;32m<ipython-input-51-b5c7f4fcce27>\u001b[0m in \u001b[0;36m<cell line: 2>\u001b[0;34m()\u001b[0m\n\u001b[1;32m      1\u001b[0m \u001b[0;32mdel\u001b[0m \u001b[0md1\u001b[0m\u001b[0;34m\u001b[0m\u001b[0;34m\u001b[0m\u001b[0m\n\u001b[0;32m----> 2\u001b[0;31m \u001b[0mprint\u001b[0m\u001b[0;34m(\u001b[0m\u001b[0md1\u001b[0m\u001b[0;34m)\u001b[0m\u001b[0;34m\u001b[0m\u001b[0;34m\u001b[0m\u001b[0m\n\u001b[0m",
            "\u001b[0;31mNameError\u001b[0m: name 'd1' is not defined"
          ]
        }
      ]
    },
    {
      "cell_type": "code",
      "source": [
        "d2.clear()\n",
        "d2"
      ],
      "metadata": {
        "id": "Puu5VOZDxEE6",
        "outputId": "cb1c02e9-62a5-4069-ddcb-9f7f73c9f590",
        "colab": {
          "base_uri": "https://localhost:8080/"
        }
      },
      "execution_count": null,
      "outputs": [
        {
          "output_type": "execute_result",
          "data": {
            "text/plain": [
              "{}"
            ]
          },
          "metadata": {},
          "execution_count": 52
        }
      ]
    },
    {
      "cell_type": "code",
      "execution_count": null,
      "metadata": {
        "colab": {
          "base_uri": "https://localhost:8080/"
        },
        "id": "ojPwpBbeGIgV",
        "outputId": "19b61ddb-2959-45c4-9b26-33928941a9ee"
      },
      "outputs": [
        {
          "output_type": "stream",
          "name": "stdout",
          "text": [
            "The last name is:  kerenalli\n"
          ]
        }
      ],
      "source": [
        "#Creating a dictionary\n",
        "d1 = {\"f\":\"sudarshana\",\"m\":\"shekhar\",\"l\":\"kerenalli\"}\n",
        "print(\"The last name is: \", d1[\"l\"])"
      ]
    },
    {
      "cell_type": "code",
      "source": [
        "print(\"The keys are: \",d1.keys())\n",
        "print(\"The values are: \",d1.values())\n",
        "print(\"The items in a d1 are: \",d1.items())"
      ],
      "metadata": {
        "id": "EDXqLuOysBoQ",
        "outputId": "5142d224-af6d-48d3-b9a7-98446b0edfd1",
        "colab": {
          "base_uri": "https://localhost:8080/"
        }
      },
      "execution_count": null,
      "outputs": [
        {
          "output_type": "stream",
          "name": "stdout",
          "text": [
            "The keys are:  dict_keys(['f', 'm', 'l'])\n",
            "The values are:  dict_values(['sudarshana', 'shekhar', 'kerenalli'])\n",
            "The items in a d1 are:  dict_items([('f', 'sudarshana'), ('m', 'shekhar'), ('l', 'kerenalli')])\n"
          ]
        }
      ]
    },
    {
      "cell_type": "code",
      "source": [
        "d1[\"Designation\"] = \"Assistant Professor\""
      ],
      "metadata": {
        "id": "cJjoeOZysoSN"
      },
      "execution_count": null,
      "outputs": []
    },
    {
      "cell_type": "code",
      "source": [
        "print(d1)"
      ],
      "metadata": {
        "id": "9H1y-0OFszGt",
        "outputId": "a974a94f-057d-4c19-d859-6e84bc6177df",
        "colab": {
          "base_uri": "https://localhost:8080/"
        }
      },
      "execution_count": null,
      "outputs": [
        {
          "output_type": "stream",
          "name": "stdout",
          "text": [
            "{'f': 'sudarshana', 'm': 'shekhar', 'l': 'kerenalli', 'Designation': 'Assistant Professor', 'Education': 'BE, M.Tech, PhD'}\n"
          ]
        }
      ]
    },
    {
      "cell_type": "code",
      "source": [
        "d1[\"Education\"]=\"BE, M.Tech, PhD\""
      ],
      "metadata": {
        "id": "DJRCF-Dks7EJ"
      },
      "execution_count": null,
      "outputs": []
    },
    {
      "cell_type": "code",
      "source": [
        "d1.update(Designation = \"AP\")\n",
        "print(d1)"
      ],
      "metadata": {
        "id": "SAbHzuUUtXbi",
        "outputId": "d98f1463-1083-4d36-af9a-ef85b3b0b03c",
        "colab": {
          "base_uri": "https://localhost:8080/"
        }
      },
      "execution_count": null,
      "outputs": [
        {
          "output_type": "stream",
          "name": "stdout",
          "text": [
            "{'f': 'sudarshana', 'm': 'shekhar', 'l': 'kerenalli', 'Designation': 'AP', 'Education': 'BE, M.Tech, PhD'}\n"
          ]
        }
      ]
    },
    {
      "cell_type": "code",
      "source": [
        "d1.pop(\"Education\")\n",
        "d1"
      ],
      "metadata": {
        "id": "FBn-ZHwdt4sp",
        "outputId": "2bc929f8-e7cd-4e14-b7a3-4fe7db8fed3b",
        "colab": {
          "base_uri": "https://localhost:8080/"
        }
      },
      "execution_count": null,
      "outputs": [
        {
          "output_type": "execute_result",
          "data": {
            "text/plain": [
              "{'f': 'sudarshana', 'm': 'shekhar', 'l': 'kerenalli', 'Designation': 'AP'}"
            ]
          },
          "metadata": {},
          "execution_count": 45
        }
      ]
    },
    {
      "cell_type": "code",
      "source": [
        "d1.popitem()\n",
        "d1"
      ],
      "metadata": {
        "id": "91B4boQauE5G",
        "outputId": "72a691a7-ed1a-497a-a352-4cb6a22fec40",
        "colab": {
          "base_uri": "https://localhost:8080/"
        }
      },
      "execution_count": null,
      "outputs": [
        {
          "output_type": "execute_result",
          "data": {
            "text/plain": [
              "{'f': 'sudarshana', 'm': 'shekhar', 'l': 'kerenalli'}"
            ]
          },
          "metadata": {},
          "execution_count": 46
        }
      ]
    },
    {
      "cell_type": "code",
      "source": [
        "#Creating a dictionary using constructor\n",
        "d1 = dict(f = \"sudarshana\",m=\"shekhar\",l=\"kerenalli\")\n",
        "for key, value in d1.items():\n",
        "  print(\"The key: \", key)\n",
        "  print(\" The value: \", value)\n"
      ],
      "metadata": {
        "colab": {
          "base_uri": "https://localhost:8080/"
        },
        "id": "AbwaMBwNUUC-",
        "outputId": "8d714c85-c479-43ba-c789-d07857efc2ac"
      },
      "execution_count": null,
      "outputs": [
        {
          "output_type": "stream",
          "name": "stdout",
          "text": [
            "The key:  f\n",
            " The value:  sudarshana\n",
            "The key:  m\n",
            " The value:  shekhar\n",
            "The key:  l\n",
            " The value:  kerenalli\n"
          ]
        }
      ]
    },
    {
      "cell_type": "code",
      "source": [
        "d2 = d1.copy()\n",
        "d2.update(m = \"s\")\n",
        "print(d2)"
      ],
      "metadata": {
        "id": "d8Cappy6wZhv",
        "outputId": "29fa2633-1fd5-4810-b6f6-a7488b339b6e",
        "colab": {
          "base_uri": "https://localhost:8080/"
        }
      },
      "execution_count": null,
      "outputs": [
        {
          "output_type": "stream",
          "name": "stdout",
          "text": [
            "{'f': 'sudarshana', 'm': 's', 'l': 'kerenalli'}\n"
          ]
        }
      ]
    },
    {
      "cell_type": "code",
      "source": [
        "d1"
      ],
      "metadata": {
        "id": "Yl5htm_9wpTC",
        "outputId": "600e14c1-64d0-43a7-e061-f00834e7c5dd",
        "colab": {
          "base_uri": "https://localhost:8080/"
        }
      },
      "execution_count": null,
      "outputs": [
        {
          "output_type": "execute_result",
          "data": {
            "text/plain": [
              "{'f': 'sudarshana', 'm': 'shekhar', 'l': 'kerenalli'}"
            ]
          },
          "metadata": {},
          "execution_count": 50
        }
      ]
    },
    {
      "cell_type": "code",
      "source": [
        "#Nesting the dictionaries:\n",
        "nanditha = {\"fname\":\"Nanditha\", \"lname\":\"maraka\",\"Roll\":\"31\", \"branch\":\"cse-ds\"}\n",
        "nithya = {\"fname\":\"Nithya\", \"lname\":\"Sri\",\"Roll\":\"32\", \"branch\":\"cse-aiml\"}\n",
        "hishitha = {\"fname\":\"hishitha\", \"lname\":\"d\",\"Roll\":\"28\", \"branch\":\"cse-cs\"}\n",
        "charan = {\"fname\":\"charan\", \"lname\":\"B\",\"Roll\":\"33\", \"branch\":\"cse-aiml\"}"
      ],
      "metadata": {
        "id": "IlF3IwXKxWkm"
      },
      "execution_count": null,
      "outputs": []
    },
    {
      "cell_type": "code",
      "source": [
        "students = {\n",
        "    \"one\": nanditha,\n",
        "    \"second\":nithya,\n",
        "    \"third\":hishitha,\n",
        "    \"four\":charan\n",
        "\n",
        "}\n",
        "\n",
        "print(\"The roll number of first person is: \", students[\"one\"][\"Roll\"])"
      ],
      "metadata": {
        "id": "5k8wxX2AyMQm",
        "outputId": "9d057902-1699-4de2-de11-9118730e7e47",
        "colab": {
          "base_uri": "https://localhost:8080/"
        }
      },
      "execution_count": null,
      "outputs": [
        {
          "output_type": "stream",
          "name": "stdout",
          "text": [
            "The roll number of first person is:  31\n"
          ]
        }
      ]
    },
    {
      "cell_type": "markdown",
      "source": [
        "# Accessing the items from the dictionary"
      ],
      "metadata": {
        "id": "ytGQpRTwVH-c"
      }
    },
    {
      "cell_type": "code",
      "source": [
        "print(\"The middle name of the person is {}\".format(d1[\"m\"]))"
      ],
      "metadata": {
        "colab": {
          "base_uri": "https://localhost:8080/"
        },
        "id": "sqpDAatOVDaO",
        "outputId": "97a52c86-c87c-4e89-ee90-8f35a9ce61a2"
      },
      "execution_count": null,
      "outputs": [
        {
          "output_type": "stream",
          "name": "stdout",
          "text": [
            "The middle name of the person is shekhar\n"
          ]
        }
      ]
    },
    {
      "cell_type": "markdown",
      "source": [
        "#Updating the dictionary"
      ],
      "metadata": {
        "id": "2i5b_qk7Vb64"
      }
    },
    {
      "cell_type": "code",
      "source": [
        "d1.update(m=\"vishalakshi\")\n",
        "print(\"Updated dictionary: \",d1)"
      ],
      "metadata": {
        "colab": {
          "base_uri": "https://localhost:8080/"
        },
        "id": "71mfO-rEVgOP",
        "outputId": "d0552a0e-4940-4703-f5ce-be3ca8d51773"
      },
      "execution_count": null,
      "outputs": [
        {
          "output_type": "stream",
          "name": "stdout",
          "text": [
            "Updated dictionary:  {'f': 'sudarshana', 'm': 'vishalakshi', 'l': 'kerenalli'}\n"
          ]
        }
      ]
    },
    {
      "cell_type": "markdown",
      "source": [
        "Adding the new field to the dictionary"
      ],
      "metadata": {
        "id": "6ji7v_xMV0vX"
      }
    },
    {
      "cell_type": "code",
      "source": [
        "d1.update(sal = \"mr. \")\n",
        "d1"
      ],
      "metadata": {
        "colab": {
          "base_uri": "https://localhost:8080/"
        },
        "id": "nZloPTEWV513",
        "outputId": "2a0b6bb1-6828-4e34-d4bc-3cc84ba785fc"
      },
      "execution_count": null,
      "outputs": [
        {
          "output_type": "execute_result",
          "data": {
            "text/plain": [
              "{'f': 'sudarshana', 'm': 'vishalakshi', 'l': 'kerenalli', 'sal': 'mr. '}"
            ]
          },
          "metadata": {},
          "execution_count": 7
        }
      ]
    },
    {
      "cell_type": "code",
      "source": [
        "#printing the individual fields\n",
        "print(\"The person name is: {3} {0} {1} {2}\".format(d1[\"f\"],d1[\"m\"],d1[\"l\"],d1[\"sal\"]))"
      ],
      "metadata": {
        "colab": {
          "base_uri": "https://localhost:8080/"
        },
        "id": "9Q_mrPNAWBeW",
        "outputId": "e1a2ac8b-446f-48cc-8720-c54b7d2c4117"
      },
      "execution_count": null,
      "outputs": [
        {
          "output_type": "stream",
          "name": "stdout",
          "text": [
            "The person name is: mr.  sudarshana vishalakshi kerenalli\n"
          ]
        }
      ]
    },
    {
      "cell_type": "markdown",
      "source": [
        "# Using the index to add the new feature"
      ],
      "metadata": {
        "id": "3K_IzZMgWf9o"
      }
    },
    {
      "cell_type": "code",
      "source": [
        "d1[\"desg\"] = \"Assistant Professor\"\n",
        "print(d1)"
      ],
      "metadata": {
        "colab": {
          "base_uri": "https://localhost:8080/"
        },
        "id": "YzzA18XzWlzK",
        "outputId": "79dc1829-b04d-4c88-e7f4-9117cf6323f0"
      },
      "execution_count": null,
      "outputs": [
        {
          "output_type": "stream",
          "name": "stdout",
          "text": [
            "{'f': 'sudarshana', 'm': 'vishalakshi', 'l': 'kerenalli', 'sal': 'mr. ', 'desg': 'Assistant Professor'}\n"
          ]
        }
      ]
    },
    {
      "cell_type": "markdown",
      "source": [
        "accessing the individual values"
      ],
      "metadata": {
        "id": "CLSOXc3IWwIX"
      }
    },
    {
      "cell_type": "code",
      "source": [
        "print(\"The set of values are: \")\n",
        "for x in d1.values():\n",
        "  print(x)"
      ],
      "metadata": {
        "colab": {
          "base_uri": "https://localhost:8080/"
        },
        "id": "UbWb06z7W0YT",
        "outputId": "2178b228-14b3-4022-f195-643787d29802"
      },
      "execution_count": null,
      "outputs": [
        {
          "output_type": "stream",
          "name": "stdout",
          "text": [
            "The set of values are: \n",
            "sudarshana\n",
            "vishalakshi\n",
            "kerenalli\n",
            "mr. \n",
            "Assistant Professor\n"
          ]
        }
      ]
    },
    {
      "cell_type": "code",
      "source": [
        "print(\"The set of keys are: \")\n",
        "for x in d1.keys():\n",
        "  print(x)"
      ],
      "metadata": {
        "colab": {
          "base_uri": "https://localhost:8080/"
        },
        "id": "L2SpAHlgXA6Q",
        "outputId": "1a0221d3-3c7b-4aa2-9b0f-640f33d28f40"
      },
      "execution_count": null,
      "outputs": [
        {
          "output_type": "stream",
          "name": "stdout",
          "text": [
            "The set of keys are: \n",
            "f\n",
            "m\n",
            "l\n",
            "sal\n",
            "desg\n"
          ]
        }
      ]
    },
    {
      "cell_type": "code",
      "source": [
        "print(\"The set of items are: \")\n",
        "for x in d1.items():\n",
        "  print(x)"
      ],
      "metadata": {
        "colab": {
          "base_uri": "https://localhost:8080/"
        },
        "id": "_hSmM54eXEjX",
        "outputId": "5522f6a0-1416-4f34-aa35-059fbb032fa2"
      },
      "execution_count": null,
      "outputs": [
        {
          "output_type": "stream",
          "name": "stdout",
          "text": [
            "The set of items are: \n",
            "('f', 'sudarshana')\n",
            "('m', 'vishalakshi')\n",
            "('l', 'kerenalli')\n",
            "('sal', 'mr. ')\n",
            "('desg', 'Assistant Professor')\n"
          ]
        }
      ]
    },
    {
      "cell_type": "code",
      "source": [
        "d2 = d1.copy()\n",
        "print(\"The copied dictionary is: \", d2)\n",
        "d2.clear()\n",
        "print(\"The contents of d2 after the clear operation: \")\n",
        "d2"
      ],
      "metadata": {
        "colab": {
          "base_uri": "https://localhost:8080/"
        },
        "id": "WZPp2wiAXKsf",
        "outputId": "67535149-d12a-4460-b2eb-5e35bccc441a"
      },
      "execution_count": null,
      "outputs": [
        {
          "output_type": "stream",
          "name": "stdout",
          "text": [
            "The copied dictionary is:  {}\n",
            "The contents of d2 after the clear operation: \n"
          ]
        },
        {
          "output_type": "execute_result",
          "data": {
            "text/plain": [
              "{}"
            ]
          },
          "metadata": {},
          "execution_count": 17
        }
      ]
    },
    {
      "cell_type": "code",
      "source": [
        "#Adding and deleting the field and values\n",
        "d1 = {\"f\":\"s\",\"m\":\"sh\",\"l\":\"k\"}\n",
        "print(\"The contents of d1 are: \", d1)"
      ],
      "metadata": {
        "colab": {
          "base_uri": "https://localhost:8080/"
        },
        "id": "BfnvZBX-YHzg",
        "outputId": "0b680c10-5bf7-4da5-d610-ed7bda247918"
      },
      "execution_count": null,
      "outputs": [
        {
          "output_type": "stream",
          "name": "stdout",
          "text": [
            "The contents of d1 are:  {'f': 's', 'm': 'sh', 'l': 'k'}\n"
          ]
        }
      ]
    },
    {
      "cell_type": "markdown",
      "source": [
        "# Removing a key from the dictionary"
      ],
      "metadata": {
        "id": "FijCWuiKYfeQ"
      }
    },
    {
      "cell_type": "code",
      "source": [
        "x = d1.pop(\"m\")\n",
        "print(\"The pair deleted from d1 is: \", x)\n"
      ],
      "metadata": {
        "colab": {
          "base_uri": "https://localhost:8080/"
        },
        "id": "tSCSdOmtYfF_",
        "outputId": "0d82a6e5-974d-4b9b-e93c-1e3c89bdbe17"
      },
      "execution_count": null,
      "outputs": [
        {
          "output_type": "stream",
          "name": "stdout",
          "text": [
            "The pair deleted from d1 is:  sh\n"
          ]
        }
      ]
    },
    {
      "cell_type": "code",
      "source": [
        "x2 = d1.popitem()\n",
        "print(\"The last inserted key is: \", x2)"
      ],
      "metadata": {
        "colab": {
          "base_uri": "https://localhost:8080/"
        },
        "id": "rjBRrBiSYy4r",
        "outputId": "6b4435de-4def-4b2b-9d3e-fb2bdae1828d"
      },
      "execution_count": null,
      "outputs": [
        {
          "output_type": "stream",
          "name": "stdout",
          "text": [
            "The last inserted key is:  ('m', 'sh')\n"
          ]
        }
      ]
    },
    {
      "cell_type": "code",
      "source": [
        "del d1\n",
        "print(type(d1))"
      ],
      "metadata": {
        "colab": {
          "base_uri": "https://localhost:8080/",
          "height": 193
        },
        "id": "Sq0g_PwTZKBb",
        "outputId": "3a925ac6-6f38-4eab-a129-22ae3a95a106"
      },
      "execution_count": null,
      "outputs": [
        {
          "output_type": "error",
          "ename": "NameError",
          "evalue": "name 'd1' is not defined",
          "traceback": [
            "\u001b[0;31m---------------------------------------------------------------------------\u001b[0m",
            "\u001b[0;31mNameError\u001b[0m                                 Traceback (most recent call last)",
            "\u001b[0;32m<ipython-input-26-6d8324d41554>\u001b[0m in \u001b[0;36m<cell line: 2>\u001b[0;34m()\u001b[0m\n\u001b[1;32m      1\u001b[0m \u001b[0;32mdel\u001b[0m \u001b[0md1\u001b[0m\u001b[0;34m\u001b[0m\u001b[0;34m\u001b[0m\u001b[0m\n\u001b[0;32m----> 2\u001b[0;31m \u001b[0mprint\u001b[0m\u001b[0;34m(\u001b[0m\u001b[0mtype\u001b[0m\u001b[0;34m(\u001b[0m\u001b[0md1\u001b[0m\u001b[0;34m)\u001b[0m\u001b[0;34m)\u001b[0m\u001b[0;34m\u001b[0m\u001b[0;34m\u001b[0m\u001b[0m\n\u001b[0m",
            "\u001b[0;31mNameError\u001b[0m: name 'd1' is not defined"
          ]
        }
      ]
    },
    {
      "cell_type": "code",
      "source": [
        "#Nested dictionaries\n",
        "sk = {\"fname\": \"Sudarshana\",\"mname\":\"shekhar\",\"lname\": \"kerenalli\"}\n",
        "bk = {\"fname\": \"Bhuvan\",\"mname\":\"Mahadev\",\"lname\": \"kerenalli\"}\n",
        "jk = {\"fname\": \"Jagan\",\"mname\":\"Mahadev\",\"lname\": \"kerenalli\"}\n",
        "hk = {\"fname\": \"Hansika\",\"mname\":\"sudarshan\",\"lname\": \"kerenalli\"}\n",
        "family = {\"f\":sk,\"s\":bk, \"j\":jk,\"h\":hk}\n",
        "print(family[\"f\"])\n",
        "print(family[\"s\"])\n",
        "print(family[\"j\"])\n",
        "print(family[\"h\"])"
      ],
      "metadata": {
        "colab": {
          "base_uri": "https://localhost:8080/"
        },
        "id": "7lLGadwjajsB",
        "outputId": "ba78695b-3708-4fed-8e8d-e02d6b9c2a64"
      },
      "execution_count": null,
      "outputs": [
        {
          "output_type": "stream",
          "name": "stdout",
          "text": [
            "{'fname': 'Sudarshana', 'mname': 'shekhar', 'lname': 'kerenalli'}\n",
            "{'fname': 'Bhuvan', 'mname': 'Mahadev', 'lname': 'kerenalli'}\n",
            "{'fname': 'Jagan', 'mname': 'Mahadev', 'lname': 'kerenalli'}\n",
            "{'fname': 'Hansika', 'mname': 'sudarshan', 'lname': 'kerenalli'}\n"
          ]
        }
      ]
    },
    {
      "cell_type": "code",
      "source": [
        "#Accessing the individual fields form the nested dictionaries\n",
        "print(\"The first name of the f recod is: \",family[\"f\"][\"fname\"])"
      ],
      "metadata": {
        "colab": {
          "base_uri": "https://localhost:8080/"
        },
        "id": "lTo7EVQAbpGP",
        "outputId": "3fd7898a-b586-47a2-ca0b-8217374bf805"
      },
      "execution_count": null,
      "outputs": [
        {
          "output_type": "stream",
          "name": "stdout",
          "text": [
            "The first name of the f recod is:  Sudarshana\n"
          ]
        }
      ]
    },
    {
      "cell_type": "code",
      "source": [
        "#Nested dictionaries\n",
        "sk = {\"fname\": \"Sudarshana\",\"mname\":\"shekhar\",\"lname\": \"kerenalli\"}\n",
        "bk = {\"fname\": \"Bhuvan\",\"mname\":\"Mahadev\",\"lname\": \"kerenalli\"}\n",
        "jk = {\"fname\": \"Jagan\",\"mname\":\"Mahadev\",\"lname\": \"kerenalli\"}\n",
        "hk = {\"fname\": \"Hansika\",\"mname\":\"sudarshan\",\"lname\": \"kerenalli\"}\n",
        "family = {\"f\":sk,\"s\":bk, \"j\":jk,\"h\":hk}\n",
        "print(family[\"f\"])\n",
        "print(family[\"s\"])\n",
        "print(family[\"j\"])\n",
        "print(family[\"h\"])"
      ],
      "metadata": {
        "colab": {
          "base_uri": "https://localhost:8080/"
        },
        "id": "SWIIQUK6e1JM",
        "outputId": "0e48596c-462b-4d24-b085-9d5606a0b66a"
      },
      "execution_count": 1,
      "outputs": [
        {
          "output_type": "stream",
          "name": "stdout",
          "text": [
            "{'fname': 'Sudarshana', 'mname': 'shekhar', 'lname': 'kerenalli'}\n",
            "{'fname': 'Bhuvan', 'mname': 'Mahadev', 'lname': 'kerenalli'}\n",
            "{'fname': 'Jagan', 'mname': 'Mahadev', 'lname': 'kerenalli'}\n",
            "{'fname': 'Hansika', 'mname': 'sudarshan', 'lname': 'kerenalli'}\n"
          ]
        }
      ]
    },
    {
      "cell_type": "code",
      "source": [
        "print(\"The details are:\\n FNAME\\t\\tMNAME\\t\\tLNAME\")\n",
        "for rec in family.values():\n",
        "  #for field in rec.values():\n",
        "  print(\"\\n{}\\t\\t{}\\t\\t{}\\n\".format(rec[\"fname\"],rec[\"mname\"],rec[\"lname\"]))\n",
        "    #print(field)"
      ],
      "metadata": {
        "colab": {
          "base_uri": "https://localhost:8080/"
        },
        "id": "hUVTuHbme4EU",
        "outputId": "31c08a71-6290-408f-a60e-e334b094c5dc"
      },
      "execution_count": 9,
      "outputs": [
        {
          "output_type": "stream",
          "name": "stdout",
          "text": [
            "The details are:\n",
            " FNAME\t\tMNAME\t\tLNAME\n",
            "\n",
            "Sudarshana\t\tshekhar\t\tkerenalli\n",
            "\n",
            "\n",
            "Bhuvan\t\tMahadev\t\tkerenalli\n",
            "\n",
            "\n",
            "Jagan\t\tMahadev\t\tkerenalli\n",
            "\n",
            "\n",
            "Hansika\t\tsudarshan\t\tkerenalli\n",
            "\n"
          ]
        }
      ]
    }
  ]
}